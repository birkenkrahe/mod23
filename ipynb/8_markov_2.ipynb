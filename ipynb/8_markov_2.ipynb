{
  "cells": [
    {
      "cell_type": "markdown",
      "metadata": {},
      "source": [
        "### A Transition HMM (THMM)\n\n"
      ]
    },
    {
      "cell_type": "markdown",
      "metadata": {},
      "source": [
        "In a transition HMM, the probabilities are associated with the edges\n(connections between nodes) instead of the nodes. Each node has an\nidentifier (0-7) and a state (A,B,C).\n\n![img](./img/hmm5.png)\n\nExample: calculate the probability for a sequence ABAB. This path\nthrough the network is associated with the node sequence 0 > 1 > 3\n> 7, or the transition probabilities $0.6 \\times 1.0 \\times 0.7 = 0.42$.\n\nPut differently, the sequence ABAB has a transition probability of\n42%, while each individual node has 100%, and B:7 has 0%. The\nprobabilities for all possible network paths add up to 1:\n![img](./img/hmm6.png)\n\n| Emission|Probability|\n|---|---|\n| ABAA|0.18|\n| ABAB|0.42|\n| ACAA|0.048|\n| ACAB|0.112|\n| ACBB|0.08|\n| ACCB|0.16|\n|---|---|\n| Total|1.|\n\n"
      ]
    },
    {
      "cell_type": "markdown",
      "metadata": {},
      "source": [
        "### Python data structure for THMM\n\n"
      ]
    },
    {
      "cell_type": "markdown",
      "metadata": {},
      "source": [
        "The THMM is defined as an (mutable) ordered set of (immutable) tuples\n(x,y) where x is the state of the node, and y is a set of (mutable)\nkey-value pairs (k,v) where k is the identifier of a next node in the\nsequence, and v is the probability associated with that transition (a\ndictionary in Python).\n\nHere, 'mutable' ('immutable') means that the structure can (not) be\nadded or removed once it's been created. Strings e.g. are immutable\n(yet ordered), while lists are mutable:\n\n"
      ]
    },
    {
      "cell_type": "code",
      "execution_count": 1,
      "metadata": {},
      "outputs": [
        {
          "name": "stdout",
          "output_type": "stream",
          "text": [
            "0: H\n1: e\n2: l\n3: l\n4: o"
          ]
        }
      ],
      "source": [
        "strng = 'Hello'\n[print(f'{i}: {item}') for i,item in enumerate(strng)]"
      ]
    },
    {
      "cell_type": "code",
      "execution_count": 1,
      "metadata": {},
      "outputs": [
        {
          "name": "stdout",
          "output_type": "stream",
          "text": [
            "h"
          ]
        }
      ],
      "source": [
        "# Try to change 'H' to 'h'\n#strng[0] = 'h'  # 'str object does not support item assignment\nnew_strng = strng.replace('H','h')\nprint(new_strng[0])"
      ]
    },
    {
      "cell_type": "markdown",
      "metadata": {},
      "source": [
        "But for lists:\n\n"
      ]
    },
    {
      "cell_type": "code",
      "execution_count": 1,
      "metadata": {},
      "outputs": [
        {
          "name": "stdout",
          "output_type": "stream",
          "text": [
            "['h', 'e', 'l', 'l', 'o']\n<class 'list'>\n['H', 'e', 'l', 'l', 'o']"
          ]
        }
      ],
      "source": [
        "word = 'hello'\nchar = list(word)\nprint(char)\nprint(type(char))\n# change first character of the list\nchar[0] = 'H'\nprint(char)"
      ]
    },
    {
      "cell_type": "markdown",
      "metadata": {},
      "source": [
        "Back to the THMM: To encode node 0 in the state 'A' and its potential\ntransitions to states 'B' or 'C' with probabilities 0.3 and 0.7:\n\n"
      ]
    },
    {
      "cell_type": "code",
      "execution_count": 1,
      "metadata": {},
      "outputs": [],
      "source": [
        "# node 0 in state A with transitions to node 1 or node 2\n('A', {1:0.6, 2:0.4})"
      ]
    },
    {
      "cell_type": "markdown",
      "metadata": {},
      "source": [
        "### Creating a THMM\n\n"
      ]
    },
    {
      "cell_type": "markdown",
      "metadata": {},
      "source": [
        "For the demonstration, we use a simpler THMM:\n\n-   Node 0 is in state A\n-   Node 1 is in state B\n-   Node 2 is in state C\n-   Node 3 is in state D\n\nAll transition probabilities except 0 > 1 and 0 > 2 are 1.0.\n![img](./img/hmm7.png)\n\nThe function `THMM` creates this network using the tuple + dictionary structure:\n\n"
      ]
    },
    {
      "cell_type": "code",
      "execution_count": 1,
      "metadata": {},
      "outputs": [],
      "source": [
        "def THMM():\n    '''Create transition hidden markov model for four nodes 0-3 with\n    four states A,B,C,D and transition probabilities 0 > 1 of 0.3 and\n    0 > 2 of 0.7.\n    '''\n    # initialize empty dictionary\n    net = {}\n\n    # define set of nodes as a dictionary with: tuple of state letter\n    # and dictionary of key = node, value = transition probability\n    net['begin'] = ('',{0:1.0}) # stateless - transition to node 0 only\n    net[0] = ('A',{1:0.3,2:0.7}) # transition to nodes 1 or 2\n    net[1] = ('B',{3:1.0}) # transition to nodes 1 or 2\n    net[2] = ('C',{3:1.0}) # transition to nodes 1 or 2\n    net[3] = ('D',{'end':1.0}) # transition to nodes 1 or 2\n    net['end'] = ('',{}) # stateless - no transition from the end node\n    return net"
      ]
    },
    {
      "cell_type": "markdown",
      "metadata": {},
      "source": [
        "To create the net, run the function on the HMM object `hmm`:\n\n"
      ]
    },
    {
      "cell_type": "code",
      "execution_count": 1,
      "metadata": {},
      "outputs": [
        {
          "name": "stdout",
          "output_type": "stream",
          "text": [
            "<class 'dict'>\n('', {0: 1.0})\n('A', {1: 0.3, 2: 0.7})\n('B', {3: 1.0})\n('C', {3: 1.0})\n('D', {'end': 1.0})\n('', {})"
          ]
        }
      ],
      "source": [
        "net = THMM()\nprint(type(net))\n[print(values) for values in net.values()]"
      ]
    },
    {
      "cell_type": "markdown",
      "metadata": {},
      "source": [
        "You can draw this easily using a simple drawing library like [pyvis](https://pyvis.readthedocs.io/en/latest/) or\n[plotly](https://plotly.com/python/network-graphs/).\n\nChecking:\n\n"
      ]
    },
    {
      "cell_type": "code",
      "execution_count": 1,
      "metadata": {},
      "outputs": [
        {
          "name": "stdout",
          "output_type": "stream",
          "text": [
            "dict_keys(['begin', 0, 1, 2, 3, 'end'])\n('', {0: 1.0})\ndict_keys([1, 2])\n0.3"
          ]
        }
      ],
      "source": [
        "print(net.keys()) # keys = identify node data\nprint(net['begin']) # dictionary data for key = 'begin'\nprint(net[0][1].keys()) # keys of inside dictionary: identifier +\n                        # transition information\nprint(net[0][1][1]) # probability to go from node 0 to 1"
      ]
    },
    {
      "cell_type": "markdown",
      "metadata": {},
      "source": [
        "### Computing probability for a THMM\n\n"
      ]
    },
    {
      "cell_type": "markdown",
      "metadata": {},
      "source": [
        "To compute the probability, the network needs to know which node\nfollows the current node. This is implemented in `next_node`:\n\n"
      ]
    },
    {
      "cell_type": "code",
      "execution_count": 1,
      "metadata": {},
      "outputs": [],
      "source": [
        "def next_node(net,k,ask):\n    '''Return probability `hit` to transition to node k\n\n    net: Transition Hidden Markov Model\n    k: identifier of node to transition to\n    ask: asked state to transition to\n    '''\n    # extract nodes to which transition is possible from k\n    t = net[k][1].keys()\n\n    # initialize empty list\n    hit = []\n\n    # iterate over the nodes to which transition is possible\n    for i in t:\n        # check if a node is in the asked state `ask` (A,B,C,D)\n        if net[i][0] == ask:\n            # if match, extract node identifier and probability\n            hit = i, net[k][1][i]\n            break\n    return hit"
      ]
    },
    {
      "cell_type": "markdown",
      "metadata": {},
      "source": [
        "Use the function e.g. to find the probability to go to the node with\nthe next letter in the sequence ('B'):\n\n"
      ]
    },
    {
      "cell_type": "code",
      "execution_count": 1,
      "metadata": {},
      "outputs": [
        {
          "name": "stdout",
          "output_type": "stream",
          "text": [
            "(1, 0.3)"
          ]
        }
      ],
      "source": [
        "print(next_node(net,0,'B'))"
      ]
    },
    {
      "cell_type": "markdown",
      "metadata": {},
      "source": [
        "To consider the entire sequence, use the function `thmm_prob`: it\nreceives the THMM and the test string `in_string`. The search begins\nwith the begin node, considers each letter in the sequence, retrieves\nthe transition probabilities and multiplies them.\n\n"
      ]
    },
    {
      "cell_type": "code",
      "execution_count": 1,
      "metadata": {},
      "outputs": [],
      "source": [
        "def thmm_prob(net, in_string):\n    L = len(in_string)\n    pbs = 1.0\n    k = 'begin'\n    for i in range(L):\n        tran = next_node(net, k, in_string[i])\n        k = tran[0] \n        pbs *= tran[1]\n    return pbs"
      ]
    },
    {
      "cell_type": "markdown",
      "metadata": {},
      "source": [
        "Example function call:\n\n"
      ]
    },
    {
      "cell_type": "code",
      "execution_count": 1,
      "metadata": {},
      "outputs": [
        {
          "name": "stdout",
          "output_type": "stream",
          "text": [
            "0.3\n0.7"
          ]
        }
      ],
      "source": [
        "print(thmm_prob(net, 'ABD'))\nprint(thmm_prob(net, 'ACD'))"
      ]
    }
  ],
  "metadata": [
    [
      "org"
    ],
    null,
    null
  ],
  "nbformat": 4,
  "nbformat_minor": 0
}