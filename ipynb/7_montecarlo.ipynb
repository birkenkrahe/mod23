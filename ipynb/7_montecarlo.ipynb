{
  "cells": [
    {
      "cell_type": "markdown",
      "metadata": {},
      "source": [
        "## The Monte Carlo Method\n\n"
      ]
    },
    {
      "cell_type": "markdown",
      "metadata": {},
      "source": [
        "![img](./img/casino.jpg)\n\n-   Statistical technique used to solve mathematical problems through\n    random sampling and simulation.\n\n-   Named after the famous Monte Carlo Casino in Monaco\n\n-   Repeatedly sample random values for uncertain variables then compute\n    the results of a mathematical model or system with these variables.\n\n-   Iterations generate a distribution of outcomes, which can be\n    analyzed to gain insights in the behavior of the system modeled.\n\n-   Useful for solving problems that may be difficult or impossible to\n    solve analytically, for example integrals in high-dimensional spaces.\n\n-   Books and articles:\n    1.  [Sobol, 1994](https://archive.org/details/APrimerForTheMonteCarloMethod/mode/2up) - Primer\n    \n    2.  [Kahn, 1954](https://www.osti.gov/servlets/purl/4353680) - Applications\n    \n    3.  [Senova et al, 2023](https://www.mdpi.com/2071-1050/15/2/1006) - Risk assessment\n    \n    4.  [Mazzola, 2022](https://arxiv.org/abs/2308.07964) - Quantum computing\n\n"
      ]
    },
    {
      "cell_type": "markdown",
      "metadata": {},
      "source": [
        "### Overview\n\n"
      ]
    },
    {
      "cell_type": "markdown",
      "metadata": {},
      "source": [
        "You will learn:\n\n-   How to generate random vectors\n-   How to check if a function was loaded\n-   How to create a random vector\n-   How to set a random seed\n-   How to create a random matrix\n-   How to simulate rolling dice\n-   How to determine the area below a line\n-   How to estimate the area under an arbitrary curve\n-   How to estimate the area in a square\n-   How to estimate &pi;\n\n"
      ]
    },
    {
      "cell_type": "markdown",
      "metadata": {},
      "source": [
        "### Random vectors\n\n"
      ]
    },
    {
      "cell_type": "markdown",
      "metadata": {},
      "source": [
        "If you generate a random point in a three-dimensional space, the $x$,\n$y$ and $z$ components of the vector would need to be random numbers.\n\nThe `rand` function in the `numpy.random` module returns multiple random\nvalues in an array. Let's load it first:\n\n"
      ]
    },
    {
      "cell_type": "code",
      "execution_count": 1,
      "metadata": {},
      "outputs": [],
      "source": [
        "from numpy.random import rand"
      ]
    },
    {
      "cell_type": "markdown",
      "metadata": {},
      "source": [
        "### Check if a function was loaded\n\n"
      ]
    },
    {
      "cell_type": "markdown",
      "metadata": {},
      "source": [
        "How can you check if a function was loaded (without trying to run it\nand generating an error? In R, there is a convenient function for\nthat (`search`) but in Python, you have to write one.\n\nThe `dir` function lists all methods and attributes of a function. For\nexample, if `dir(rand)` is not `None`, the function is loaded.\n\nTest that with `numpy.random.rand`:\n\n"
      ]
    },
    {
      "cell_type": "code",
      "execution_count": 1,
      "metadata": {},
      "outputs": [
        {
          "name": "stdout",
          "output_type": "stream",
          "text": [
            "['__call__', '__class__', '__delattr__', '__dir__', '__doc__', '__eq__', '__format__', '__ge__', '__getattribute__', '__getstate__', '__gt__', '__hash__', '__init__', '__init_subclass__', '__le__', '__lt__', '__module__', '__name__', '__ne__', '__new__', '__qualname__', '__reduce__', '__reduce_ex__', '__repr__', '__self__', '__setattr__', '__sizeof__', '__str__', '__subclasshook__', '__text_signature__']"
          ]
        }
      ],
      "source": [
        "print(dir(rand))"
      ]
    },
    {
      "cell_type": "markdown",
      "metadata": {},
      "source": [
        "Write a function `loaded` that accepts a function name and checks if it\nis loaded using `dir`. Test it with:\n\n1.  with `numpy.random.rand`.\n2.  with `exit` from the `sys` library.\n3.  with the `datetime` module from the `datetime` library.\n4.  show the current time with `now` from `datetime.datetime`.\n\n"
      ]
    },
    {
      "cell_type": "code",
      "execution_count": 1,
      "metadata": {},
      "outputs": [
        {
          "name": "stdout",
          "output_type": "stream",
          "text": [
            "rand loaded\nexit loaded\ndatetime loaded\n2023-11-20 22:21:44.150493"
          ]
        }
      ],
      "source": [
        "def loaded(function):\n    '''Check if function was loaded.\n\n    function: return __name__ attribute\n    '''\n    if dir(function) != None:\n        return print(f'{function.__name__} loaded')\n    return print(f'{function.__name__} not loaded')\n\nfrom numpy.random import rand\nloaded(rand)\n\nfrom sys import exit\nloaded(exit)\n\nfrom datetime import datetime\nloaded(datetime)\n\n# show the current time\nprint(datetime.now())"
      ]
    },
    {
      "cell_type": "markdown",
      "metadata": {},
      "source": [
        "This is easier than searching through a list of all functions:\n\n"
      ]
    },
    {
      "cell_type": "code",
      "execution_count": 1,
      "metadata": {},
      "outputs": [
        {
          "name": "stdout",
          "output_type": "stream",
          "text": [
            "#+begin_example\n__name__ __main__\n__doc__ None\n__package__ None\n__loader__ <class '_frozen_importlib.BuiltinImporter'>\n__spec__ None\n__annotations__ {}\n__builtins__ <module 'builtins' (built-in)>\n__PYTHON_EL_eval <function __PYTHON_EL_eval at 0x000001E8D60B8C20>\n__PYTHON_EL_eval_file <function __PYTHON_EL_eval_file at 0x000001E8D60B9E40>\n__org_babel_python_tmpfile <_io.TextIOWrapper name='c:/Users/BIRKEN~1/AppData/Local/Temp/babel-ebaY3o/python-fjKfrY' mode='r' encoding='cp1252'>\nrand <built-in method rand of numpy.random.mtrand.RandomState object at 0x000001E8F6616840>\nloaded [None, None, None, None, None, None, None, None, None, None, None, None, None, None, None, None, None, None, None]\npd <module 'pandas' from 'c:\\\\Users\\\\birkenkrahe\\\\AppData\\\\Local\\\\Programs\\\\Python\\\\Python311\\\\Lib\\\\site-packages\\\\pandas\\\\__init__.py'>\nexit <built-in function exit>\ndatetime <class 'datetime.datetime'>\nnp <module 'numpy' from 'c:\\\\Users\\\\birkenkrahe\\\\AppData\\\\Local\\\\Programs\\\\Python\\\\Python311\\\\Lib\\\\site-packages\\\\numpy\\\\__init__.py'>\nvec [0.09587619 0.12217809 0.43047263]\nseed <function seed at 0x000001E8F811A3E0>\ni None\nSeed <function Seed at 0x000001E8F811AB60>\n#+end_example"
          ]
        }
      ],
      "source": [
        "[print(f'{name} {value}') for name, value in globals().items()];"
      ]
    },
    {
      "cell_type": "markdown",
      "metadata": {},
      "source": [
        "### Create a random vector\n\n"
      ]
    },
    {
      "cell_type": "markdown",
      "metadata": {},
      "source": [
        "Back to random numbers! Load `numpy` as `np` and then create a vector `vec`\nof three random numbers using `rand`:\n\n"
      ]
    },
    {
      "cell_type": "code",
      "execution_count": 1,
      "metadata": {},
      "outputs": [
        {
          "name": "stdout",
          "output_type": "stream",
          "text": [
            "[0.252 0.787 0.495]"
          ]
        }
      ],
      "source": [
        "import numpy as np\nvec = np.random.rand(3)\nprint(vec)"
      ]
    },
    {
      "cell_type": "markdown",
      "metadata": {},
      "source": [
        "Notice how you get different numbers each time you run the code\nblock.\n\n"
      ]
    },
    {
      "cell_type": "markdown",
      "metadata": {},
      "source": [
        "### Repeating random numbers\n\n"
      ]
    },
    {
      "cell_type": "markdown",
      "metadata": {},
      "source": [
        "To get the same result, you can set the `seed`:\n\n"
      ]
    },
    {
      "cell_type": "code",
      "execution_count": 1,
      "metadata": {},
      "outputs": [
        {
          "name": "stdout",
          "output_type": "stream",
          "text": [
            "[0.38576552 0.89914262 0.73328807]"
          ]
        }
      ],
      "source": [
        "np.random.seed(11212023)\nprint(vec)"
      ]
    },
    {
      "cell_type": "markdown",
      "metadata": {},
      "source": [
        "Wrap this code into a function `Seed`:\n\n1.  when called without an argument or with `0`, set `seed` to `None`.\n2.  when called with a non-zero argument, set `seed` to that number.\n\n"
      ]
    },
    {
      "cell_type": "code",
      "execution_count": 1,
      "metadata": {},
      "outputs": [],
      "source": [
        "def Seed(num=0):\n    '''Set random seed\n    num: random seed (default 0 or None)\n    '''\n    if num == 0:\n        np.random.seed(None)\n    else:\n        np.random.seed(num)"
      ]
    },
    {
      "cell_type": "markdown",
      "metadata": {},
      "source": [
        "Check that `seed` is loaded:\n\n"
      ]
    },
    {
      "cell_type": "code",
      "execution_count": 1,
      "metadata": {},
      "outputs": [
        {
          "name": "stdout",
          "output_type": "stream",
          "text": [
            "Seed loaded"
          ]
        }
      ],
      "source": [
        "loaded(Seed)"
      ]
    },
    {
      "cell_type": "markdown",
      "metadata": {},
      "source": [
        "Why can you be sure that `loaded` checked for your function `Seed` and not\nfor the function `seed` from the `numpy` package?\n> The `seed` function was implicitly loaded with all of `numpy` with the\n> command `import numpy as np` and needs to be addressed as\n> `np.random.seed`, and our function is `Seed` and not `seed`.Test your function `seed`.\n\n"
      ]
    },
    {
      "cell_type": "code",
      "execution_count": 1,
      "metadata": {},
      "outputs": [
        {
          "name": "stdout",
          "output_type": "stream",
          "text": [
            "[0.402 0.433 0.979]\n[0.611 0.405 0.373]\n[0.462 0.753 0.959]\n[4.170e-01 7.203e-01 1.144e-04]\n[0.302 0.147 0.092]\n[0.186 0.346 0.397]"
          ]
        }
      ],
      "source": [
        "# set seed to None\nSeed()\n\n# create a vector of three random numbers and print it thrice\n[print(np.random.rand(3)) for i in range(3)]\n\n# set seed to today's date\nSeed(1)\n\n# create a vector of three random numbers and print it thrice\n[print(np.random.rand(3)) for i in range(3)]"
      ]
    },
    {
      "cell_type": "markdown",
      "metadata": {},
      "source": [
        "### Create a large number of random vectors\n\n"
      ]
    },
    {
      "cell_type": "markdown",
      "metadata": {},
      "source": [
        "To create a large number of random vectors, create a matrix of random\nvalues: the function `ranf` accepts a single argument, a tuple of two\nintegers with the size of the matrix `mat`:\n\n"
      ]
    },
    {
      "cell_type": "code",
      "execution_count": 1,
      "metadata": {},
      "outputs": [
        {
          "name": "stdout",
          "output_type": "stream",
          "text": [
            "[[0.139 0.101 0.448]\n [0.761 0.232 0.809]\n [0.252 0.084 0.513]]"
          ]
        }
      ],
      "source": [
        "# create 100 x 3 random matrix\nmat = np.random.ranf((100,3))\n\n# print the first three rows of the matrix\nprint(mat[0:3])  # same as mat[0:4,] or mat[0:4,:]"
      ]
    },
    {
      "cell_type": "markdown",
      "metadata": {},
      "source": [
        "To limit the number of decimals printed (not generated), set the `numpy`\nfunction `set_printoptions` to 3, then print the first four rows of `mat`:\n\n"
      ]
    },
    {
      "cell_type": "code",
      "execution_count": 1,
      "metadata": {},
      "outputs": [
        {
          "name": "stdout",
          "output_type": "stream",
          "text": [
            "[[0.442 0.865 0.543]\n [0.493 0.418 0.062]\n [0.362 0.093 0.566]\n [0.641 0.768 0.633]]"
          ]
        }
      ],
      "source": [
        "np.set_printoptions(precision=3)\nprint(mat[0:4])"
      ]
    },
    {
      "cell_type": "markdown",
      "metadata": {},
      "source": [
        "`numpy` statistics are vectorized: compute the average across columns:\n\n"
      ]
    },
    {
      "cell_type": "code",
      "execution_count": 1,
      "metadata": {},
      "outputs": [
        {
          "name": "stdout",
          "output_type": "stream",
          "text": [
            "[0.494 0.491 0.501]"
          ]
        }
      ],
      "source": [
        "print(mat.mean(0))"
      ]
    },
    {
      "cell_type": "markdown",
      "metadata": {},
      "source": [
        "The average for the normal distribution of a sequence of pseudorandom\nnumbers between 0 and 1 should be close to 0.5.\n\n"
      ]
    },
    {
      "cell_type": "markdown",
      "metadata": {},
      "source": [
        "### Rolling dice\n\n"
      ]
    },
    {
      "cell_type": "markdown",
      "metadata": {},
      "source": [
        "Rolling a six-sided die is a common example for random number\ngenerators. To generate random integers, we can use `randint` from\n`numpy.random`. Its first two arguments are the lower bound (included)\nand the upper bound (excluded), its 3rd argument is number of draws:\n\n"
      ]
    },
    {
      "cell_type": "code",
      "execution_count": 1,
      "metadata": {},
      "outputs": [
        {
          "name": "stdout",
          "output_type": "stream",
          "text": [
            "3\n[3 6 4 5 1 2 4 5 6 3]"
          ]
        }
      ],
      "source": [
        "import numpy as np\n\nprint(np.random.randint(1,7))  # roll die once\nprint(np.random.randint(1,7,10)) # roll die 10 times"
      ]
    },
    {
      "cell_type": "markdown",
      "metadata": {},
      "source": [
        "By sending a tuple to the third argument, the result is a random matrix:\n\n"
      ]
    },
    {
      "cell_type": "code",
      "execution_count": 1,
      "metadata": {},
      "outputs": [
        {
          "name": "stdout",
          "output_type": "stream",
          "text": [
            "[[6 2]\n [4 1]\n [1 3]\n [3 6]\n [6 6]]"
          ]
        }
      ],
      "source": [
        "print(np.random.randint(1,7,(5,2))) # 5 x 2 random matrix of values in {1-6}"
      ]
    },
    {
      "cell_type": "markdown",
      "metadata": {},
      "source": [
        "Challenge: roll 5 dice 10,000,000 times and store the result in `mat`:\n\n"
      ]
    },
    {
      "cell_type": "code",
      "execution_count": 1,
      "metadata": {},
      "outputs": [
        {
          "name": "stdout",
          "output_type": "stream",
          "text": [
            "[[2 2 3 6 2]\n [2 5 2 5 3]\n [1 2 5 5 5]\n [4 3 6 3 3]]"
          ]
        }
      ],
      "source": [
        "N = int(1e7)\nmat = np.random.randint(1,7,(N,5))\nprint(mat[0:4]) # the first four draws with 5 fair dice"
      ]
    },
    {
      "cell_type": "markdown",
      "metadata": {},
      "source": [
        "Find all the cases in which the 5 dice have the same values:\n\n"
      ]
    },
    {
      "cell_type": "code",
      "execution_count": 1,
      "metadata": {},
      "outputs": [
        {
          "name": "stdout",
          "output_type": "stream",
          "text": [
            "Number of identical dice rolls in 10000000 rolls = 7803"
          ]
        }
      ],
      "source": [
        "# create a new N x 4 matrix of zeros\nminus = np.zeros((N,4)) \n\n# the value in minux[m,n] is the abs value of mat[m,0]-mat[m,n+1], or\n# the difference of one row value to the first value in the row\nfor i in range(4):\n    minus[:,i] = abs(mat[:,0]-mat[:,i+1])\n\n# sum horizontally across minus columns - adds has N elements\n# if a row n in mat has the same values, then adds[n] == 0\nadds = minus.sum(1)\n\n# count the number of times that 0 appears in adds\nct = (adds==0).sum()\n\n# print count\nprint(f'Number of identical dice rolls in {N} rolls = {ct}')"
      ]
    },
    {
      "cell_type": "markdown",
      "metadata": {},
      "source": [
        "Mathematically, the probability that all dice show the same number in\none roll is N \\* (1/6)<sup>4</sup>:\n\n"
      ]
    },
    {
      "cell_type": "code",
      "execution_count": 1,
      "metadata": {},
      "outputs": [
        {
          "name": "stdout",
          "output_type": "stream",
          "text": [
            "7716.049382716048"
          ]
        }
      ],
      "source": [
        "N = 10000000  # Number of rolls\nprobability_same_number = (1/6)**4  \n\n# Calculating the expected count\nexpected_count = N * probability_same_number\nprint(expected_count)"
      ]
    },
    {
      "cell_type": "markdown",
      "metadata": {},
      "source": [
        "### The Monte Carlo Method recipe\n\n"
      ]
    },
    {
      "cell_type": "markdown",
      "metadata": {},
      "source": [
        "The Monte Carlo method generates random data and receives results from\nthe interaction of that data.\n\nA simple example: generate points in a defined space and determine\nwhich side of a decision surface the points reside.\n\nWe're going to discuss several examples of increasing complexity:\n\n-   Horizontal barrier (1d)\n-   Slanted barrier (1d)\n-   Arbitrary curve (1d)\n-   Square (2d)\n-   Circle (2d)\n\n"
      ]
    },
    {
      "cell_type": "markdown",
      "metadata": {},
      "source": [
        "### Estimating the area below a horizontal barrier\n\n"
      ]
    },
    {
      "cell_type": "markdown",
      "metadata": {},
      "source": [
        "For this example, the line is determined by y = 0.5. We generate\nrandom points and determine if they are above or below a decision\nline.\n\nSince the points are evenly distributed, the space is sampled\nuniformly, and the ratio of the number of points below the line to the\ntotal number of points is similar to the ratio of the area below the\nline to the total area.\n\nBegin by creating a 100 x 2 random matrix (two vectors of 100 elements\neach, one for x one for y coordinates) with `ranf` from `numpy.random` and\nprint the first four (x,y) pairs:\n\n"
      ]
    },
    {
      "cell_type": "code",
      "execution_count": 1,
      "metadata": {},
      "outputs": [
        {
          "name": "stdout",
          "output_type": "stream",
          "text": [
            "[[0.6004186  0.91837912]\n [0.36526563 0.8921838 ]\n [0.22136106 0.54129696]\n [0.09818276 0.21635354]]"
          ]
        }
      ],
      "source": [
        "# import numpy as np\nimport numpy as np\n\n# create 100 x 2 random matrix\nvecs = np.random.ranf((100,2))\nprint(vecs[0:4])"
      ]
    },
    {
      "cell_type": "markdown",
      "metadata": {},
      "source": [
        "Compare the y values of these vectors to 0.5 and store the resulting\nBoolean vector in a variable `above`:\n\n"
      ]
    },
    {
      "cell_type": "code",
      "execution_count": 1,
      "metadata": {},
      "outputs": [
        {
          "name": "stdout",
          "output_type": "stream",
          "text": [
            ": [ True  True  True False]"
          ]
        }
      ],
      "source": [
        "above = vecs[:,1] > 0.5\nprint(above[0:4])"
      ]
    },
    {
      "cell_type": "markdown",
      "metadata": {},
      "source": [
        "The function `np.nonzero` returns the non-zero values of an array. `ndx`\ncontains the indices of all non-zero (`True`) points above the line.\n\n"
      ]
    },
    {
      "cell_type": "code",
      "execution_count": 1,
      "metadata": {},
      "outputs": [
        {
          "name": "stdout",
          "output_type": "stream",
          "text": [
            "[0 1 2 4]"
          ]
        }
      ],
      "source": [
        "ndx = above.nonzero()[0] \nprint(ndx[0:4])"
      ]
    },
    {
      "cell_type": "markdown",
      "metadata": {},
      "source": [
        "We create a scatter plot of these points:\n\n"
      ]
    },
    {
      "cell_type": "code",
      "execution_count": 1,
      "metadata": {},
      "outputs": [
        {
          "data": {
            "image/png": "[encoded data removed]",
            "text/plain": "<matplotlib.figure.Figure>"
          },
          "metadata": {},
          "output_type": "display_data"
        }
      ],
      "source": [
        "# import graphics module\nimport matplotlib.pyplot as plt\n\n# plot points above the line\nplt.clf()\nplt.scatter(x=vecs[ndx,0],y=vecs[ndx,1])\nplt.savefig('img/above.png')"
      ]
    },
    {
      "cell_type": "markdown",
      "metadata": {},
      "source": [
        "Switch the Boolean values in `above`, making `ndx` the indices of the\npoints below the line, and print those points with a marker:\n\n"
      ]
    },
    {
      "cell_type": "code",
      "execution_count": 1,
      "metadata": {},
      "outputs": [
        {
          "data": {
            "image/png": "",
            "text/plain": "<matplotlib.figure.Figure>"
          },
          "metadata": {},
          "output_type": "display_data"
        }
      ],
      "source": [
        "plt.clf()\nndx = above.nonzero()[0] \nplt.scatter(x=vecs[ndx,0],y=vecs[ndx,1])\nndx = (1 - above).nonzero()[0]\nplt.scatter(x=vecs[ndx,0],y=vecs[ndx,1],marker='+')\nplt.axhline(y=0.5, color='red', linestyle=\"dashed\") # Add horizontal line at y=0.5\nplt.xlim(0,1)\nplt.ylim(0,1)\nplt.title(\"Estimate the area below a horizontal barrier at y=0.5\")\nplt.savefig('img/above_and_below.png')"
      ]
    },
    {
      "cell_type": "markdown",
      "metadata": {},
      "source": [
        "### Estimating the area below a slanted barrier\n\n"
      ]
    },
    {
      "cell_type": "markdown",
      "metadata": {},
      "source": [
        "To divide the random points by a slanted line, notice that the\ndividing line (and our \"decision surface\") is defined by $y=mx+b$\nwhere $m$ is the `slope` and $b$ is the `intercept`.\n\nAs before, we create 100 random vectors in the plane, set the `slope`\nand `intercept` values:\n\n"
      ]
    },
    {
      "cell_type": "code",
      "execution_count": 1,
      "metadata": {},
      "outputs": [],
      "source": [
        "slope = -1.3\nintercept = 0.8\nvecs = np.random.ranf((100,2))"
      ]
    },
    {
      "cell_type": "markdown",
      "metadata": {},
      "source": [
        "Plot the points (with `scatter(x,y)` and the line (with `plot(x,y)`):\n\n"
      ]
    },
    {
      "cell_type": "code",
      "execution_count": 1,
      "metadata": {},
      "outputs": [
        {
          "data": {
            "image/png": "[encoded data removed]",
            "text/plain": "<matplotlib.figure.Figure>"
          },
          "metadata": {},
          "output_type": "display_data"
        }
      ],
      "source": [
        "# import graphics and numeric libraries\nimport matplotlib.pyplot as plt\nimport numpy as np\n\n# clear graphics \nplt.clf()\n\n# plot random vectors\nplt.scatter(x=vecs[:,0],y=vecs[:,1])\n\n# create array x of 2 values in [0,1] \nx = np.linspace(0,1,2)\n\n# generate line with slope and intercept\ny = x * slope + intercept\n\n# plot line\nplt.plot(x,y,color=\"red\",linestyle=\"dashed\")\n\n# fix display limits for viewing\nplt.ylim(-0.1,1.1)\nplt.savefig('img/slanted.png')"
      ]
    },
    {
      "cell_type": "markdown",
      "metadata": {},
      "source": [
        "To determine if an (x,y) point is above the line, the y value of the\npoint is compared with the corresponding value in yline. Convert the\nresulting Boolean vector into numbers with `nonzero`:\n\n"
      ]
    },
    {
      "cell_type": "code",
      "execution_count": 1,
      "metadata": {},
      "outputs": [],
      "source": [
        "# create line taking the x array from the random vectors\nyline = vecs[:,0] * slope + intercept\n\n# check if y value is above the line and store in ndx index vector\nndx = (vecs[:,1] > yline).nonzero()[0]"
      ]
    },
    {
      "cell_type": "markdown",
      "metadata": {},
      "source": [
        "Plot the resulting points:\n\n"
      ]
    },
    {
      "cell_type": "code",
      "execution_count": 1,
      "metadata": {},
      "outputs": [
        {
          "data": {
            "image/png": "[encoded data removed]",
            "text/plain": "<matplotlib.figure.Figure>"
          },
          "metadata": {},
          "output_type": "display_data"
        }
      ],
      "source": [
        "plt.clf()\nplt.scatter(vecs[ndx,0],vecs[ndx,1])\nplt.savefig('img/yline_above.png')"
      ]
    },
    {
      "cell_type": "markdown",
      "metadata": {},
      "source": [
        "Do the same for the points below the line: create Boolean vector,\nconvert it to indices and store it in `ndx`, then plot the result and\nmark the points with a \\`+\\`:\n\n"
      ]
    },
    {
      "cell_type": "code",
      "execution_count": 1,
      "metadata": {},
      "outputs": [
        {
          "data": {
            "image/png": "[encoded data removed]",
            "text/plain": "<matplotlib.figure.Figure>"
          },
          "metadata": {},
          "output_type": "display_data"
        }
      ],
      "source": [
        "# check if y value is below the line and store in ndx index vector\nndx = (vecs[:,1] < yline).nonzero()[0]\n\nplt.clf()\nplt.scatter(vecs[ndx,0],vecs[ndx,1],marker='+')\nplt.savefig('img/yline_below.png')"
      ]
    },
    {
      "cell_type": "markdown",
      "metadata": {},
      "source": [
        "Put the code blocks together and plot the line using y defined earlier\nto show the decision surface:\n\n"
      ]
    },
    {
      "cell_type": "code",
      "execution_count": 1,
      "metadata": {},
      "outputs": [
        {
          "data": {
            "image/png": "[encoded data removed]",
            "text/plain": "<matplotlib.figure.Figure>"
          },
          "metadata": {},
          "output_type": "display_data"
        }
      ],
      "source": [
        "import matplotlib.pyplot as plt\nimport numpy as np\n\n# define the decision surface\nyline = vecs[:,0] * slope + intercept\n\nplt.clf()\n\n# points above the line\nndx = (vecs[:,1] > yline).nonzero()[0]\nplt.scatter(vecs[ndx,0],vecs[ndx,1])\n\n# points below the line\nndx = (vecs[:,1] < yline).nonzero()[0]\nplt.scatter(vecs[ndx,0],vecs[ndx,1], marker='+')\n\n# draw the line\nplt.plot(x,y,color=\"green\",linestyle=\"dashed\")\n\n# fix the display limits\nplt.xlim(0,1)\nplt.ylim(0,1)\n\nplt.savefig('img/yline_above_below.png')"
      ]
    },
    {
      "cell_type": "code",
      "execution_count": 1,
      "metadata": {},
      "outputs": [
        {
          "data": {
            "image/png": "",
            "text/plain": "<matplotlib.figure.Figure>"
          },
          "metadata": {},
          "output_type": "display_data"
        }
      ],
      "source": [
        "plt.clf()\nplt.plot(x,y)\nplt.ylim(0,1)\nplt.savefig('img/line.png')"
      ]
    }
  ],
  "metadata": [
    [
      "org"
    ],
    null,
    null
  ],
  "nbformat": 4,
  "nbformat_minor": 0
}