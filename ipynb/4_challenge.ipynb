{
  "cells": [
    {
      "cell_type": "markdown",
      "metadata": {},
      "source": [
        "### Parameters and metrics - challenges (30 points)\n\n"
      ]
    },
    {
      "cell_type": "markdown",
      "metadata": {},
      "source": [
        "These exercises are a little more challenging. You'll get sample\nsolutions from me.\n\n"
      ]
    },
    {
      "cell_type": "markdown",
      "metadata": {},
      "source": [
        "#### Averaging results\n\n"
      ]
    },
    {
      "cell_type": "markdown",
      "metadata": {},
      "source": [
        "Because our simulations are random, the results vary from one run to\nanother, and the results of a parameter sweep tend to be noisy.  We\ncan get a clearer picture of the relationship between a parameter and\na metric by running multiple simulations with the same parameter and\ntaking the average of the results.\n\nWrite a function called `run_multiple_simulations` that takes as\nparameters `p1`, `p2`, `num_steps`, and `num_runs`.  `num_runs`\nspecifies how many times it should call `run_simulation`.\n\nAfter each run, it should store the total number of unhappy customers\n(at leap or at city) in a `TimeSeries`.  At the end, it should return\nthe `TimeSeries`.\n\nTest your function with these parameters:\n\n    p1 = 0.3\n    p2 = 0.3\n    num_steps = 60\n    num_runs = 10\n\nDisplay the resulting `TimeSeries` and use the `mean` function from\nNumPy to compute the average number of unhappy customers.\n\n"
      ]
    },
    {
      "cell_type": "markdown",
      "metadata": {},
      "source": [
        "#### Sweeping through two parameter value sets\n\n"
      ]
    },
    {
      "cell_type": "markdown",
      "metadata": {},
      "source": [
        "Continuing the previous exercise, use `run_multiple_simulations` to run\nsimulations with a range of values for `p1` and `p2`.\n\n    p2 = 0.3\n    num_steps = 60\n    num_runs = 20\n\nStore the results in a `SweepSeries`, then plot the average number of\nunhappy customers as a function of `p1`.  Label the axes.\n\nWhat value of `p1` minimizes the average number of unhappy customers?\n\n"
      ]
    }
  ],
  "metadata": {
    "org": null,
    "kernelspec": {
      "display_name": "Python 3",
      "language": "python",
      "name": "python3"
    },
    "language_info": {
      "codemirror_mode": {
        "name": "ipython",
        "version": 3
      },
      "file_extension": ".py",
      "mimetype": "text/x-python",
      "name": "python",
      "nbconvert_exporter": "python",
      "pygments_lexer": "ipython3",
      "version": "3.5.2"
    }
  },
  "nbformat": 4,
  "nbformat_minor": 0
}