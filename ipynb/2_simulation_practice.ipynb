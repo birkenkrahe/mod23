{
  "cells": [
    {
      "cell_type": "markdown",
      "metadata": {},
      "source": [
        "### Exiting gracefully from an error\n\n"
      ]
    },
    {
      "cell_type": "markdown",
      "metadata": {},
      "source": [
        "You can make Python exit gracefully if you prepare for well-known\nerrors, e.g. an `ImportError` if a library is not installed. The code\nbelow will only work in IPython - otherwise you need a\n\n    # Install pint if necessary\n    try:\n        import pint\n    except ImportError:\n        !pip install pint\n\n"
      ]
    },
    {
      "cell_type": "markdown",
      "metadata": {},
      "source": [
        "### Download and install `modsim`\n\n"
      ]
    },
    {
      "cell_type": "markdown",
      "metadata": {},
      "source": [
        "The `download` function loads a Python file from `url`. It also will exit\ngracefully if there is no file at the URL. We then call the function\non the location of `modsim` and import its functions:\n\n"
      ]
    },
    {
      "cell_type": "code",
      "execution_count": 1,
      "metadata": {},
      "outputs": [],
      "source": [
        "# download modsim.py if necessary\nfrom os.path import basename, exists\n\ndef download(url):\n    filename = basename(url)\n    if not exists(filename):\n        from urllib.request import urlretrieve\n        local, _ = urlretrieve(url, filename)\n        print('Downloaded ' + local)\n\n# call function for download\ndownload('https://raw.githubusercontent.com/AllenDowney/' +\n         'ModSimPy/master/modsim.py')\n\n# import functions from modsim\nfrom modsim import *"
      ]
    },
    {
      "cell_type": "markdown",
      "metadata": {},
      "source": [
        "Modify this last command so that Python exits in case `modsim` is not\ninstalled:\n\n"
      ]
    },
    {
      "cell_type": "code",
      "execution_count": 1,
      "metadata": {},
      "outputs": [],
      "source": [
        "# Install pint if necessary\ntry:\n    import modsim\nexcept ImportError:\n    print(\"modsim is not installed.\")"
      ]
    },
    {
      "cell_type": "markdown",
      "metadata": {},
      "source": [
        "### Bike sharing model\n\n"
      ]
    },
    {
      "cell_type": "markdown",
      "metadata": {},
      "source": [
        "#### The simulation sandbox\n\n"
      ]
    },
    {
      "cell_type": "markdown",
      "metadata": {},
      "source": [
        "Consider a bike sharing system for students traveling between two\nsites, LEAP on Lyon's campus, and the Batesville City Community Centre\non 20th Street.\n![img](./img/bikeshare_locations.png)\n\n"
      ]
    },
    {
      "cell_type": "markdown",
      "metadata": {},
      "source": [
        "#### System description\n\n"
      ]
    },
    {
      "cell_type": "markdown",
      "metadata": {},
      "source": [
        "The **system** contains 12 bikes as **elements** and 2 bike racks each with a\ncapacity to hold 12 bikes.\n\n**State** changes in either location are caused by students checking out\nbikes at one and riding to the other location.\n\nIn the **simulation**, we keep track on where the bikes are using the\n`modsim.State` function:\n\n1.  import the `modsim` library\n2.  look at the `help` for `State`\n\n"
      ]
    },
    {
      "cell_type": "code",
      "execution_count": 1,
      "metadata": {},
      "outputs": [],
      "source": [
        "import modsim\n# help(State)"
      ]
    },
    {
      "cell_type": "markdown",
      "metadata": {},
      "source": [
        "#### More about the `State` function\n\n"
      ]
    },
    {
      "cell_type": "markdown",
      "metadata": {},
      "source": [
        "`State` is defined with `**variables` as argument, which means that any\nkeyword arguments passed to that function will be collected into a\ndictionary called `variables`.\n\nThis means that you can initialize `State` with any number of keyword\nvariables. For example, you could use the function to represent a\nsimple bank account:\n\n"
      ]
    },
    {
      "cell_type": "code",
      "execution_count": 1,
      "metadata": {},
      "outputs": [
        {
          "name": "stdout",
          "output_type": "stream",
          "text": [
            "You have $100.0 in your 5% interest bank account."
          ]
        }
      ],
      "source": [
        "from modsim import State\nbank_account = State(balance=100,interest_rate=0.05)\nprint(f'You have ${bank_account.balance} in your \\\n{int(bank_account.interest_rate*100)}% interest bank account.')"
      ]
    },
    {
      "cell_type": "markdown",
      "metadata": {},
      "source": [
        "When you check the `type` of `modsim.State()`, you can see that it is\nbased on a `pandas` `Series` object, or one-dimensional `numpy` array, or a\nvector ([see doc](https://pandas.pydata.org/pandas-docs/stable/reference/api/pandas.Series.html)):\n\n"
      ]
    },
    {
      "cell_type": "code",
      "execution_count": 1,
      "metadata": {},
      "outputs": [
        {
          "name": "stdout",
          "output_type": "stream",
          "text": [
            "<class 'pandas.core.series.Series'>"
          ]
        }
      ],
      "source": [
        "print(type(bank_account))"
      ]
    },
    {
      "cell_type": "markdown",
      "metadata": {},
      "source": [
        "You can also use `source_code` to see the code for the function:\n\n"
      ]
    },
    {
      "cell_type": "code",
      "execution_count": 1,
      "metadata": {},
      "outputs": [
        {
          "name": "stdout",
          "output_type": "stream",
          "text": [
            "def State(**variables):\n    \"\"\"Contains the values of state variables.\"\"\"\n    return pd.Series(variables, name='state')"
          ]
        }
      ],
      "source": [
        "source_code(State)"
      ]
    },
    {
      "cell_type": "markdown",
      "metadata": {},
      "source": [
        "`Series` objects provide their own `plot` function, `Series.plot()`.\n\n"
      ]
    },
    {
      "cell_type": "markdown",
      "metadata": {},
      "source": [
        "#### Using `State` to describe the system\n\n"
      ]
    },
    {
      "cell_type": "markdown",
      "metadata": {},
      "source": [
        "We store the state of the bike sharing system in a state `bikeshare`,\nwith the number of bike in either location:\n\n"
      ]
    },
    {
      "cell_type": "code",
      "execution_count": 1,
      "metadata": {},
      "outputs": [],
      "source": [
        "bikeshare = State(leap=10, city=2)"
      ]
    },
    {
      "cell_type": "markdown",
      "metadata": {},
      "source": [
        "We can now get the value of the state variables `leap` and `city`:\n\n"
      ]
    },
    {
      "cell_type": "code",
      "execution_count": 1,
      "metadata": {},
      "outputs": [
        {
          "name": "stdout",
          "output_type": "stream",
          "text": [
            "Bikes at LEAP: 10\nBikes at Community Center: 2"
          ]
        }
      ],
      "source": [
        "print(f'Bikes at LEAP: {bikeshare.leap}')\nprint(f'Bikes at Community Center: {bikeshare.city}')"
      ]
    },
    {
      "cell_type": "markdown",
      "metadata": {},
      "source": [
        "To see all state variables and their values, just enter the object's\nname (this is better formatted in IPython):\n\n"
      ]
    },
    {
      "cell_type": "code",
      "execution_count": 1,
      "metadata": {},
      "outputs": [
        {
          "name": "stdout",
          "output_type": "stream",
          "text": [
            "leap    10\ncity     2\nName: state, dtype: int64"
          ]
        }
      ],
      "source": [
        "print(bikeshare)"
      ]
    },
    {
      "cell_type": "markdown",
      "metadata": {},
      "source": [
        "#### Updating the state of the system\n\n"
      ]
    },
    {
      "cell_type": "markdown",
      "metadata": {},
      "source": [
        "To update the system, we can either assign new values to the state\nvariables, or we can use C-style update operators `+=` and `-=`:\n\n"
      ]
    },
    {
      "cell_type": "code",
      "execution_count": 1,
      "metadata": {},
      "outputs": [
        {
          "name": "stdout",
          "output_type": "stream",
          "text": [
            "leap    9\ncity    3\nName: state, dtype: int64"
          ]
        }
      ],
      "source": [
        "bikeshare.leap = 9\nbikeshare.city = 3\nprint(bikeshare)"
      ]
    },
    {
      "cell_type": "markdown",
      "metadata": {},
      "source": [
        "We use the update operators to return the system to the previous state:\n\n"
      ]
    },
    {
      "cell_type": "code",
      "execution_count": 1,
      "metadata": {},
      "outputs": [
        {
          "name": "stdout",
          "output_type": "stream",
          "text": [
            "leap    10\ncity     2\nName: state, dtype: int64"
          ]
        }
      ],
      "source": [
        "bikeshare.leap += 1\nbikeshare.city -= 1\nprint(bikeshare)"
      ]
    },
    {
      "cell_type": "markdown",
      "metadata": {},
      "source": [
        "The last line of the printout are `Series` metadata. To lose them but\nretain the tabular format, loop over the items:\n\n"
      ]
    },
    {
      "cell_type": "code",
      "execution_count": 1,
      "metadata": {},
      "outputs": [
        {
          "name": "stdout",
          "output_type": "stream",
          "text": [
            "state\nleap     6\ncity     6"
          ]
        }
      ],
      "source": [
        "print(f'     {bikeshare.name}')\nfor index, value in bikeshare.items():\n    print(f'{index}     {value}')"
      ]
    },
    {
      "cell_type": "markdown",
      "metadata": {},
      "source": [
        "#### Defining functions\n\n"
      ]
    },
    {
      "cell_type": "markdown",
      "metadata": {},
      "source": [
        "To be able to reuse code, we put it into functions. In Python, the\ntemplate to create a function named `foo` (without arguments) that\nreturns nothing looks like this:\n\n    def foo():\n        # do something\n        return #something\n\nA simple example:\n\n"
      ]
    },
    {
      "cell_type": "code",
      "execution_count": 1,
      "metadata": {},
      "outputs": [
        {
          "name": "stdout",
          "output_type": "stream",
          "text": [
            "hello there"
          ]
        }
      ],
      "source": [
        "# define function\ndef hello():\n    print(\"hello there\")\n\n# call function\nhello()"
      ]
    },
    {
      "cell_type": "markdown",
      "metadata": {},
      "source": [
        "The usual sins apply: all variables inside the function are local, and\nif you want to return something to the calling routine, you need\n`return`:\n\n"
      ]
    },
    {
      "cell_type": "code",
      "execution_count": 1,
      "metadata": {},
      "outputs": [
        {
          "name": "stdout",
          "output_type": "stream",
          "text": [
            "hello again\nGreeting complete."
          ]
        }
      ],
      "source": [
        "# define function with return value\ndef hello_again():\n    msg = \"Greeting complete.\"\n    print(\"hello again\")\n    return msg\n\n# call function and print return value\nreturned_msg = hello_again()\nprint(returned_msg)"
      ]
    },
    {
      "cell_type": "markdown",
      "metadata": {},
      "source": [
        "Run this through pythontutor.com to see what happens when ([solution](https://pythontutor.com/render.html#code=%23%20define%20function%20with%20return%20value%0Adef%20hello_again%28%29%3A%0A%20%20%20%20msg%20%3D%20%22Greeting%20complete.%22%0A%20%20%20%20print%28%22hello%20again%22%29%0A%20%20%20%20return%20msg%0A%0A%23%20call%20function%20and%20print%20return%20value%0Areturned_msg%20%3D%20hello_again%28%29%0Aprint%28returned_msg%29&cumulative=false&curInstr=8&heapPrimitives=nevernest&mode=display&origin=opt-frontend.js&py=3&rawInputLstJSON=%5B%5D&textReferences=false)).\n\n"
      ]
    },
    {
      "cell_type": "markdown",
      "metadata": {},
      "source": [
        "#### Defining an updating function\n\n"
      ]
    },
    {
      "cell_type": "markdown",
      "metadata": {},
      "source": [
        "Rather than repeat the update every time a bike moves, define a\nfunction that reflects a move of a bike from LEAP to the Community\nCenter, `bike_to_city`:\n\n"
      ]
    },
    {
      "cell_type": "code",
      "execution_count": 1,
      "metadata": {},
      "outputs": [],
      "source": [
        "def bike_to_city():\n    bikeshare.leap -= 1\n    bikeshare.city += 1"
      ]
    },
    {
      "cell_type": "markdown",
      "metadata": {},
      "source": [
        "Now print the current state, then update it, then print the new state:\n\n"
      ]
    },
    {
      "cell_type": "code",
      "execution_count": 1,
      "metadata": {},
      "outputs": [
        {
          "name": "stdout",
          "output_type": "stream",
          "text": [
            "leap    10\ncity     2\nName: state, dtype: int64\nleap    9\ncity    3\nName: state, dtype: int64"
          ]
        }
      ],
      "source": [
        "print(bikeshare)\nbike_to_city()\nprint(bikeshare)"
      ]
    },
    {
      "cell_type": "markdown",
      "metadata": {},
      "source": [
        "There's nothing that keeps our bike share state variables from going\noutside of the [0,12] range:\n\n1.  Write a function `reset` that restores a particular state, e.g. with\n    6 bikes in either location.\n2.  The function should print the old and the new state.\n3.  The function should announce itself \"System reset\".\n4.  Run `bike_to_city` a few times until the values are wrong.\n5.  Restore the steady state using your new function.\n\n"
      ]
    },
    {
      "cell_type": "code",
      "execution_count": 1,
      "metadata": {},
      "outputs": [],
      "source": [
        "def reset():\n    print(\"System reset. Old state:\")\n    print(bikeshare)\n    bikeshare.leap = 6\n    bikeshare.city = 6\n    print(\"New state:\")\n    print(bikeshare)"
      ]
    },
    {
      "cell_type": "markdown",
      "metadata": {},
      "source": [
        "Testing:\n\n"
      ]
    },
    {
      "cell_type": "code",
      "execution_count": 1,
      "metadata": {},
      "outputs": [],
      "source": [
        "print(bikeshare)\nbike_to_city()\nbike_to_city()\nbike_to_city()\nbike_to_city()\nbike_to_city()\nreset()"
      ]
    },
    {
      "cell_type": "markdown",
      "metadata": {},
      "source": [
        "Alter the `bike_to_city` function and print out \"Moving bike to city\"\nevery time the function is called, test the function, and then move\nthe system back to the steady state.\n\n"
      ]
    },
    {
      "cell_type": "code",
      "execution_count": 1,
      "metadata": {},
      "outputs": [
        {
          "name": "stdout",
          "output_type": "stream",
          "text": [
            "Moving bike to city.\nSystem reset. Old state:\nleap    5\ncity    7\nName: state, dtype: int64\nNew state:\nleap    6\ncity    6\nName: state, dtype: int64"
          ]
        }
      ],
      "source": [
        "def bike_to_city():\n    print(\"Moving bike to city.\")\n    bikeshare.leap -= 1\n    bikeshare.city += 1\n\nbike_to_city()\nreset()"
      ]
    },
    {
      "cell_type": "markdown",
      "metadata": {},
      "source": [
        "#### Pseudorandom generator\n\n"
      ]
    },
    {
      "cell_type": "markdown",
      "metadata": {},
      "source": [
        "As a simple model of customer behavior within the system, we use a\npseudorandom number generator to determine when customers arrive at\neach bike station.\n\nThe function `modsim.flip` generates random coin tosses, i.e. it\nsimulates tosses of a fair coin with default probability 0.5 for\neither side, and returns a Boolean value, `True` or `False`.\n\nIt is based on NumPy's `random` function:\n\n"
      ]
    },
    {
      "cell_type": "code",
      "execution_count": 1,
      "metadata": {},
      "outputs": [
        {
          "name": "stdout",
          "output_type": "stream",
          "text": [
            "def flip(p=0.5):\n    \"\"\"Flips a coin with the given probability.\n:\n    p: float 0-1\n:\n    returns: boolean (True or False)\n    \"\"\"\n    return np.random.random() < p"
          ]
        }
      ],
      "source": [
        "source_code(flip)"
      ]
    },
    {
      "cell_type": "markdown",
      "metadata": {},
      "source": [
        "Call the function with a probability between 0 and 1, e.g. 70%. On\naverage, it will return `True` with probability 70% or `False` with\nprobability 30%:\n\n"
      ]
    },
    {
      "cell_type": "code",
      "execution_count": 1,
      "metadata": {},
      "outputs": [
        {
          "name": "stdout",
          "output_type": "stream",
          "text": [
            "True True True False True False True False True True"
          ]
        }
      ],
      "source": [
        "for _ in range(10):\n    print(flip(0.7),end=\" \")"
      ]
    },
    {
      "cell_type": "markdown",
      "metadata": {},
      "source": [
        "To control program behavior with Boolean values, we use conditional\nstatements. The general form of such a statement is as follows:\n\n"
      ]
    },
    {
      "cell_type": "code",
      "execution_count": 1,
      "metadata": {},
      "outputs": [],
      "source": [
        "if condition:\n    # do something if condition is True\nelse:\n    # do something else if condition is False"
      ]
    },
    {
      "cell_type": "markdown",
      "metadata": {},
      "source": [
        "The following program simulates a fair coin: it prints \"heads\" if the\n`flip` results in `True`, and \"tails\" if it results in `False`.\n\n"
      ]
    },
    {
      "cell_type": "code",
      "execution_count": 1,
      "metadata": {},
      "outputs": [
        {
          "name": "stdout",
          "output_type": "stream",
          "text": [
            "heads"
          ]
        }
      ],
      "source": [
        "if flip(0.5):\n    print(\"heads\")\nelse:\n    print(\"tails\")"
      ]
    },
    {
      "cell_type": "markdown",
      "metadata": {},
      "source": [
        "For the particular argument 0.5 we could have left the argument out\nsince `flip` is defined as `flip(p=0.5)` as we saw earlier.\n\n"
      ]
    },
    {
      "cell_type": "markdown",
      "metadata": {},
      "source": [
        "#### Simulating customers as coin tosses\n\n"
      ]
    },
    {
      "cell_type": "markdown",
      "metadata": {},
      "source": [
        "We can use `flip` to simulate the arrival of customers who want to\nborrow a bike: If customers arrive at the LEAP station every two\nminutes on average, then the chance of an arrival during any\none-minute period is 50%:\n\n"
      ]
    },
    {
      "cell_type": "code",
      "execution_count": 1,
      "metadata": {},
      "outputs": [
        {
          "name": "stdout",
          "output_type": "stream",
          "text": [
            "Moving bike to city."
          ]
        }
      ],
      "source": [
        "if flip(0.5):\n    bike_to_city()"
      ]
    },
    {
      "cell_type": "markdown",
      "metadata": {},
      "source": [
        "If customers arrive at the Community Center station every three\nminutes on average, the chance of an arrival during any one-minute\nperiod is 33%:\n\n"
      ]
    },
    {
      "cell_type": "code",
      "execution_count": 1,
      "metadata": {},
      "outputs": [],
      "source": [
        "if flip(0.5):\n    bike_to_city()"
      ]
    },
    {
      "cell_type": "markdown",
      "metadata": {},
      "source": [
        "**Challenge:** what is the mathematical formulation for the relationship\nthat leads to this \"chance of arrival in any one-minute period is N\npercent\"? (Tip: the \"arrival\" is called a \"draw with replacement\".)\n\nBoth of these snippets together with functions that change the state\nof the system can be used to simulate a time step - in this case one\nminute:\n\n"
      ]
    },
    {
      "cell_type": "code",
      "execution_count": 1,
      "metadata": {},
      "outputs": [],
      "source": [
        "def step():\n    if flip(0.5):\n        bike_to_city()\n    if flip(0.33):\n        bike_to_leap()"
      ]
    },
    {
      "cell_type": "markdown",
      "metadata": {},
      "source": [
        "Depending on the random results from `flip`, a `step` moves a bike to the\nCommunity Centre or to the LEAP bike station, or neither, or both.\n\nBefore you can try it, you need to remember how to move a bike and\ncreate the function `bike_to_leap()`:\n\n"
      ]
    },
    {
      "cell_type": "code",
      "execution_count": 1,
      "metadata": {},
      "outputs": [],
      "source": [
        "def bike_to_leap():\n    print(\"Moving bike to LEAP.\")\n    bikeshare.leap += 1\n    bikeshare.city -= 1"
      ]
    },
    {
      "cell_type": "markdown",
      "metadata": {},
      "source": [
        "Simulating customers and bikes:\n\n"
      ]
    },
    {
      "cell_type": "code",
      "execution_count": 1,
      "metadata": {},
      "outputs": [
        {
          "name": "stdout",
          "output_type": "stream",
          "text": [
            "Moving bike to city.\nMoving bike to LEAP."
          ]
        }
      ],
      "source": [
        "step()"
      ]
    }
  ],
  "metadata": [
    [
      "org"
    ],
    null,
    null
  ],
  "nbformat": 4,
  "nbformat_minor": 0
}