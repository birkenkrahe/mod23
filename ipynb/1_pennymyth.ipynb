{
  "cells": [
    {
      "cell_type": "markdown",
      "metadata": {},
      "source": [
        "### Computation in Python\n\n"
      ]
    },
    {
      "cell_type": "markdown",
      "metadata": {},
      "source": [
        "Create a variable `a` to represent acceleration in meters per second\nsquared:\n\n"
      ]
    },
    {
      "cell_type": "code",
      "execution_count": 1,
      "metadata": {},
      "outputs": [],
      "source": [
        "a = 9.8"
      ]
    },
    {
      "cell_type": "markdown",
      "metadata": {},
      "source": [
        "Create another variable to represent the time for the penny to drop,\nlet's say 3.4 seconds:\n\n"
      ]
    },
    {
      "cell_type": "code",
      "execution_count": 1,
      "metadata": {},
      "outputs": [],
      "source": [
        "t = 3.4"
      ]
    },
    {
      "cell_type": "markdown",
      "metadata": {},
      "source": [
        "Now we can compute the velocity `v` of the penny after `t` seconds\n(ignoring air resistance):\n\n"
      ]
    },
    {
      "cell_type": "code",
      "execution_count": 1,
      "metadata": {},
      "outputs": [
        {
          "name": "stdout",
          "output_type": "stream",
          "text": [
            "33.32"
          ]
        }
      ],
      "source": [
        "v = a * t\nprint(v)"
      ]
    },
    {
      "cell_type": "markdown",
      "metadata": {},
      "source": [
        "What distance `x` would the penny travel during that time?\n\n"
      ]
    },
    {
      "cell_type": "code",
      "execution_count": 1,
      "metadata": {},
      "outputs": [
        {
          "name": "stdout",
          "output_type": "stream",
          "text": [
            "56.644"
          ]
        }
      ],
      "source": [
        "x = a * t**2 / 2\nprint(x)"
      ]
    },
    {
      "cell_type": "markdown",
      "metadata": {},
      "source": [
        "How long would it take for the penny to fall 381 m, the height of the\nEmpire States building? First, let's store the height in a variable `h`:\n\n"
      ]
    },
    {
      "cell_type": "code",
      "execution_count": 1,
      "metadata": {},
      "outputs": [],
      "source": [
        "h = 381"
      ]
    },
    {
      "cell_type": "markdown",
      "metadata": {},
      "source": [
        "To compute t, we need the square root function. We can import the\nfunction from the NumPy package:\n\n"
      ]
    },
    {
      "cell_type": "code",
      "execution_count": 1,
      "metadata": {},
      "outputs": [],
      "source": [
        "from numpy import sqrt"
      ]
    },
    {
      "cell_type": "markdown",
      "metadata": {},
      "source": [
        "Now we can use it to compute `t` in seconds:\n\n"
      ]
    },
    {
      "cell_type": "code",
      "execution_count": 1,
      "metadata": {},
      "outputs": [
        {
          "name": "stdout",
          "output_type": "stream",
          "text": [
            "8.817885349720552"
          ]
        }
      ],
      "source": [
        "t = sqrt(2 * h / a)\nprint(t)"
      ]
    },
    {
      "cell_type": "markdown",
      "metadata": {},
      "source": [
        "Finally, let's calculate the penny's velocity `v` in m/s:\n\n"
      ]
    },
    {
      "cell_type": "code",
      "execution_count": 1,
      "metadata": {},
      "outputs": [
        {
          "name": "stdout",
          "output_type": "stream",
          "text": [
            "86.41527642726142"
          ]
        }
      ],
      "source": [
        "v = a * t\nprint(v)"
      ]
    },
    {
      "cell_type": "markdown",
      "metadata": {},
      "source": [
        "**Exercise:** can you compute the terminal velocity for the penny given\nthis formula:\n\n\\begin{equation}\n V_t = \\sqrt{\\frac{2 \\cdot m \\cdot g}{C_d \\cdot A \\cdot \\rho}}\n\\end{equation}\n\nWhere $m$ is the mass of the object ($2.5\\times 10^{-3} kg$), $g$ is\nthe acceleration due to gravity ($9.8 m/s^2$), $C_d$ is the drag\ncoefficient ($0.47$), A is the cross-sectional area of the object\n($2.85\\times 10^{-4} m^2$ - a penny has a radius of $9.525 mm$), and\n$\\rho$ is the density of the fluid through which the object is falling\n($1.204 kg/m^3$).\n\nSolution:\n\n"
      ]
    },
    {
      "cell_type": "code",
      "execution_count": 1,
      "metadata": {},
      "outputs": [
        {
          "name": "stdout",
          "output_type": "stream",
          "text": [
            "17.430644182450333"
          ]
        }
      ],
      "source": [
        "# Assign constants\nm = 2.5e-3  # kg\ng = 9.8     # m/s^2\nc_d = 0.47    \nA = 2.85e-4 # m^2\nrho = 1.204\n\n# Compute terminal velocity\nv = sqrt((2 * m * g) / (c_d * A * rho))\nprint(v)"
      ]
    },
    {
      "cell_type": "markdown",
      "metadata": {},
      "source": [
        "**Exercise**: check the penny area computation computationally.\n\n**Solution:** we need the constant value for $\\pi$, or we could\napproximate it to 3.14, and the known area formula ($\\pi r^2$):\n\n"
      ]
    },
    {
      "cell_type": "code",
      "execution_count": 1,
      "metadata": {},
      "outputs": [
        {
          "name": "stdout",
          "output_type": "stream",
          "text": [
            "0.0002848784625\n2.85"
          ]
        }
      ],
      "source": [
        "r = 9.525e-3\nA = r**2 * 3.14\nprint(A)\nprint(f'{round(A*1e4,2):.2f}')"
      ]
    },
    {
      "cell_type": "markdown",
      "metadata": {},
      "source": [
        "Let's do it with a higher precision `pi` using `NumPy`:\n\n"
      ]
    },
    {
      "cell_type": "code",
      "execution_count": 1,
      "metadata": {},
      "outputs": [
        {
          "name": "stdout",
          "output_type": "stream",
          "text": [
            "0.0002850229569923425\n2.85"
          ]
        }
      ],
      "source": [
        "from numpy import pi\nA = r**2 * pi\nprint(A)\nprint(f'{round(A*1e4,2):.2f}')"
      ]
    }
  ],
  "metadata": [
    [
      "org"
    ],
    null,
    null
  ],
  "nbformat": 4,
  "nbformat_minor": 0
}