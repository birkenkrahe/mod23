{
  "cells": [
    {
      "cell_type": "markdown",
      "metadata": {},
      "source": [
        "### Bike sharing model\n\n"
      ]
    },
    {
      "cell_type": "markdown",
      "metadata": {},
      "source": [
        "#### The simulation sandbox\n\n"
      ]
    },
    {
      "cell_type": "markdown",
      "metadata": {},
      "source": [
        "Consider a bike sharing system for students traveling between two\nsites, LEAP on Lyon's campus, and the Batesville City Community Centre\non 20th Street.\n![img](./img/bikeshare_locations.png)\n\n"
      ]
    },
    {
      "cell_type": "markdown",
      "metadata": {},
      "source": [
        "#### System description\n\n"
      ]
    },
    {
      "cell_type": "markdown",
      "metadata": {},
      "source": [
        "The **system** contains 12 bikes as **elements** and 2 bike racks each with a\ncapacity to hold 12 bikes.\n\n**State** changes in either location are caused by students checking out\nbikes at one and riding to the other location.\n\nIn the **simulation**, we keep track on where the bikes are using the\n`modsim.State` function:\n\n1.  import the `modsim` library\n2.  look at the `help` for `State`\n\n"
      ]
    },
    {
      "cell_type": "code",
      "execution_count": 1,
      "metadata": {},
      "outputs": [],
      "source": [
        "import modsim\n# help(State)"
      ]
    },
    {
      "cell_type": "markdown",
      "metadata": {},
      "source": [
        "#### More about the `State` function\n\n"
      ]
    },
    {
      "cell_type": "markdown",
      "metadata": {},
      "source": [
        "`State` is defined with `**variables` as argument, which means that any\nkeyword arguments passed to that function will be collected into a\ndictionary called `variables`.\n\nThis means that you can initialize `State` with any number of keyword\nvariables. For example, you could use the function to represent a\nsimple bank account:\n\n"
      ]
    },
    {
      "cell_type": "code",
      "execution_count": 1,
      "metadata": {},
      "outputs": [
        {
          "name": "stdout",
          "output_type": "stream",
          "text": [
            "You have $100.0 in your 5% interest bank account."
          ]
        }
      ],
      "source": [
        "from modsim import State\nbank_account = State(balance=100,interest_rate=0.05)\nprint(f'You have ${bank_account.balance} in your \\\n{int(bank_account.interest_rate*100)}% interest bank account.')"
      ]
    },
    {
      "cell_type": "markdown",
      "metadata": {},
      "source": [
        "When you check the `type` of `modsim.State()`, you can see that it is\nbased on a `pandas` `Series` object, or one-dimensional `numpy` array, or a\nvector ([see doc](https://pandas.pydata.org/pandas-docs/stable/reference/api/pandas.Series.html)):\n\n"
      ]
    },
    {
      "cell_type": "code",
      "execution_count": 1,
      "metadata": {},
      "outputs": [
        {
          "name": "stdout",
          "output_type": "stream",
          "text": [
            "<class 'pandas.core.series.Series'>"
          ]
        }
      ],
      "source": [
        "print(type(bank_account))"
      ]
    },
    {
      "cell_type": "markdown",
      "metadata": {},
      "source": [
        "You can also use `source_code` to see the code for the function:\n\n"
      ]
    },
    {
      "cell_type": "code",
      "execution_count": 1,
      "metadata": {},
      "outputs": [
        {
          "name": "stdout",
          "output_type": "stream",
          "text": [
            "def State(**variables):\n    \"\"\"Contains the values of state variables.\"\"\"\n    return pd.Series(variables, name='state')"
          ]
        }
      ],
      "source": [
        "modsim.source_code(modsim.State)"
      ]
    },
    {
      "cell_type": "markdown",
      "metadata": {},
      "source": [
        "`Series` objects provide their own `plot` function, `Series.plot()`.\n\nLet's look at this function `source_code`:\n\n"
      ]
    },
    {
      "cell_type": "code",
      "execution_count": 1,
      "metadata": {},
      "outputs": [
        {
          "name": "stdout",
          "output_type": "stream",
          "text": [
            "def source_code(obj):\n    \"\"\"Prints the source code for a given object.\n\n    obj: function or method object\n    \"\"\"\n    print(inspect.getsource(obj))"
          ]
        }
      ],
      "source": [
        "modsim.source_code(modsim.source_code)"
      ]
    },
    {
      "cell_type": "markdown",
      "metadata": {},
      "source": [
        "#### Using `State` to describe the system\n\n"
      ]
    },
    {
      "cell_type": "markdown",
      "metadata": {},
      "source": [
        "We store the state of the bike sharing system in a state `bikeshare`,\nwith the number of bike in either location:\n\n"
      ]
    },
    {
      "cell_type": "code",
      "execution_count": 1,
      "metadata": {},
      "outputs": [],
      "source": [
        "bikeshare = State(leap=10, city=2)"
      ]
    },
    {
      "cell_type": "markdown",
      "metadata": {},
      "source": [
        "We can now get the value of the state variables `leap` and `city`:\n\n"
      ]
    },
    {
      "cell_type": "code",
      "execution_count": 1,
      "metadata": {},
      "outputs": [
        {
          "name": "stdout",
          "output_type": "stream",
          "text": [
            "Bikes at LEAP: 10\nBikes at Community Center: 2"
          ]
        }
      ],
      "source": [
        "print(f'Bikes at LEAP: {bikeshare.leap}')\nprint(f'Bikes at Community Center: {bikeshare.city}')"
      ]
    },
    {
      "cell_type": "markdown",
      "metadata": {},
      "source": [
        "To see all state variables and their values, just enter the object's\nname (this is better formatted in IPython):\n\n"
      ]
    },
    {
      "cell_type": "code",
      "execution_count": 1,
      "metadata": {},
      "outputs": [
        {
          "name": "stdout",
          "output_type": "stream",
          "text": [
            "leap    10\ncity     2\nName: state, dtype: int64"
          ]
        }
      ],
      "source": [
        "print(bikeshare)"
      ]
    },
    {
      "cell_type": "markdown",
      "metadata": {},
      "source": [
        "#### Updating the state of the system\n\n"
      ]
    },
    {
      "cell_type": "markdown",
      "metadata": {},
      "source": [
        "To update the system, we can either assign new values to the state\nvariables, or we can use C-style update operators `+=` and `-=`:\n\n"
      ]
    },
    {
      "cell_type": "code",
      "execution_count": 1,
      "metadata": {},
      "outputs": [
        {
          "name": "stdout",
          "output_type": "stream",
          "text": [
            "leap    9\ncity    3\nName: state, dtype: int64"
          ]
        }
      ],
      "source": [
        "bikeshare.leap = 9\nbikeshare.city = 3\nprint(bikeshare)"
      ]
    },
    {
      "cell_type": "markdown",
      "metadata": {},
      "source": [
        "We use the update operators to return the system to the previous state:\n\n"
      ]
    },
    {
      "cell_type": "code",
      "execution_count": 1,
      "metadata": {},
      "outputs": [
        {
          "name": "stdout",
          "output_type": "stream",
          "text": [
            "leap    10\ncity     2\nName: state, dtype: int64"
          ]
        }
      ],
      "source": [
        "bikeshare.leap += 1\nbikeshare.city -= 1\nprint(bikeshare)"
      ]
    },
    {
      "cell_type": "markdown",
      "metadata": {},
      "source": [
        "The last line of the printout are `Series` metadata. To lose them but\nretain the tabular format, loop over the items:\n\n"
      ]
    },
    {
      "cell_type": "code",
      "execution_count": 1,
      "metadata": {},
      "outputs": [
        {
          "name": "stdout",
          "output_type": "stream",
          "text": [
            "state\nleap     10\ncity     2"
          ]
        }
      ],
      "source": [
        "print(f'     {bikeshare.name}')\nfor index, value in bikeshare.items():\n    print(f'{index}     {value}')"
      ]
    },
    {
      "cell_type": "markdown",
      "metadata": {},
      "source": [
        "The function `items` allows you to iterate over iterable tuples whose\nelements consist of an index and a value stored with that index:\n\n"
      ]
    },
    {
      "cell_type": "code",
      "execution_count": 1,
      "metadata": {},
      "outputs": [
        {
          "name": "stdout",
          "output_type": "stream",
          "text": [
            "#+begin_example\n<class 'pandas.core.series.Series'>\n    def items(self) -> Iterable[tuple[Hashable, Any]]:\n        \"\"\"\n        Lazily iterate over (index, value) tuples.\n\n        This method returns an iterable tuple (index, value). This is\n        convenient if you want to create a lazy iterator.\n\n        Returns\n        -------\n        iterable\n            Iterable of tuples containing the (index, value) pairs from a\n            Series.\n\n        See Also\n        --------\n        DataFrame.items : Iterate over (column name, Series) pairs.\n        DataFrame.iterrows : Iterate over DataFrame rows as (index, Series) pairs.\n\n        Examples\n        --------\n        >>> s = pd.Series(['A', 'B', 'C'])\n        >>> for index, value in s.items():\n        ...     print(f\"Index : {index}, Value : {value}\")\n        Index : 0, Value : A\n        Index : 1, Value : B\n        Index : 2, Value : C\n        \"\"\"\n        return zip(iter(self.index), iter(self))\n\nNone\n#+end_example"
          ]
        }
      ],
      "source": [
        "print(modsim.source_code(bikeshare.items))"
      ]
    },
    {
      "cell_type": "markdown",
      "metadata": {},
      "source": [
        "#### Defining functions\n\n"
      ]
    },
    {
      "cell_type": "markdown",
      "metadata": {},
      "source": [
        "To be able to reuse code, we put it into functions. In Python, the\ntemplate to create a function named `foo` (without arguments) that\nreturns nothing looks like this:\n\n    def foo():\n        # do something\n        return #something\n\nA simple example is this 'hello world' function:\n\n"
      ]
    },
    {
      "cell_type": "code",
      "execution_count": 1,
      "metadata": {},
      "outputs": [
        {
          "name": "stdout",
          "output_type": "stream",
          "text": [
            "Hello, world!"
          ]
        }
      ],
      "source": [
        "# define function\ndef hello():\n    print(\"Hello, world!\")\n\n# call function\nhello()"
      ]
    },
    {
      "cell_type": "markdown",
      "metadata": {},
      "source": [
        "As usual, functions are subroutines or encapsulated procedures: all\nvariables inside the function are local, and if you want to return\nsomething to the calling routine, you need to add `return`.\n\nThe following function returns a string `msg`, which we can only access\nby saving the function result in a variable:\n\n"
      ]
    },
    {
      "cell_type": "code",
      "execution_count": 1,
      "metadata": {},
      "outputs": [
        {
          "name": "stdout",
          "output_type": "stream",
          "text": [
            "hello again\nGreeting complete.\n*** NameError: Cannot print local variable ***"
          ]
        }
      ],
      "source": [
        "# define function with return value\ndef hello_again():\n    msg = \"Greeting complete.\"\n    print(\"hello again\")\n    return msg\n\n# call function and print return value\nreturned_msg = hello_again()\nprint(returned_msg)\ntry:\n    print(msg)\nexcept NameError:\n    print(\"*** NameError: Cannot print local variable ***\")"
      ]
    },
    {
      "cell_type": "markdown",
      "metadata": {},
      "source": [
        "Add a statement at the very end to print `msg` itself. This will lead to\na `NameError`. Fix this by wrapping `print(msg)` in a `try:...except\nNameError:` exception statement!\n\nFinally, run the code through pythontutor.com to see what happens\n([solution](https://pythontutor.com/render.html#code=%23%20define%20function%20with%20return%20value%0Adef%20hello_again%28%29%3A%0A%20%20%20%20msg%20%3D%20%22Greeting%20complete.%22%0A%20%20%20%20print%28%22hello%20again%22%29%0A%20%20%20%20return%20msg%0A%0A%23%20call%20function%20and%20print%20return%20value%0Areturned_msg%20%3D%20hello_again%28%29%0Aprint%28returned_msg%29%0Atry%3A%0A%20%20%20%20print%28msg%29%0Aexcept%20NameError%3A%0A%20%20%20%20print%28%22***%20NameError%3A%20Cannot%20print%20local%20variable%20***%22%29&cumulative=false&curInstr=13&heapPrimitives=nevernest&mode=display&origin=opt-frontend.js&py=3&rawInputLstJSON=%5B%5D&textReferences=false)).\n\n"
      ]
    },
    {
      "cell_type": "markdown",
      "metadata": {},
      "source": [
        "#### Defining an updating function\n\n"
      ]
    },
    {
      "cell_type": "markdown",
      "metadata": {},
      "source": [
        "Rather than repeat the update every time a bike moves, define a\nfunction that reflects a move of a bike from LEAP to the Community\nCenter, `bike_to_city`:\n\n"
      ]
    },
    {
      "cell_type": "code",
      "execution_count": 1,
      "metadata": {},
      "outputs": [],
      "source": [
        "def bike_to_city():\n    bikeshare.leap -= 1\n    bikeshare.city += 1"
      ]
    },
    {
      "cell_type": "markdown",
      "metadata": {},
      "source": [
        "Now print the current state, then update it using the new function,\nthen print the new state:\n\n"
      ]
    },
    {
      "cell_type": "code",
      "execution_count": 1,
      "metadata": {},
      "outputs": [
        {
          "name": "stdout",
          "output_type": "stream",
          "text": [
            "leap    9\ncity    3\nName: state, dtype: int64\nleap    8\ncity    4\nName: state, dtype: int64"
          ]
        }
      ],
      "source": [
        "print(bikeshare)\nbike_to_city()\nprint(bikeshare)"
      ]
    },
    {
      "cell_type": "markdown",
      "metadata": {},
      "source": [
        "There's nothing that keeps our bike share state variables from going\noutside of the [0,12] range, which is a hard physical boundary. Let's\nfix this.\n\n1.  Write a function `reset` that restores a particular state, e.g. with\n    6 bikes in either location.\n2.  The function should print the old and the new state.\n3.  The function should announce itself \"System reset\".\n4.  Run `bike_to_city` a few times until the values are wrong.\n5.  Restore the steady state using your new function.\n\n"
      ]
    },
    {
      "cell_type": "code",
      "execution_count": 1,
      "metadata": {},
      "outputs": [],
      "source": [
        "def reset():\n    print(\"System reset. Old state:\")\n    print(bikeshare)\n    bikeshare.leap = 6\n    bikeshare.city = 6\n    print(\"New state:\")\n    print(bikeshare)"
      ]
    },
    {
      "cell_type": "markdown",
      "metadata": {},
      "source": [
        "Testing:\n\n"
      ]
    },
    {
      "cell_type": "code",
      "execution_count": 1,
      "metadata": {},
      "outputs": [
        {
          "name": "stdout",
          "output_type": "stream",
          "text": [
            "#+begin_example\nleap   -42\ncity    54\nName: state, dtype: int64\nSystem reset. Old state:\nleap   -47\ncity    59\nName: state, dtype: int64\nNew state:\nleap    6\ncity    6\nName: state, dtype: int64\n#+end_example"
          ]
        }
      ],
      "source": [
        "print(bikeshare)\nbike_to_city()\nbike_to_city()\nbike_to_city()\nbike_to_city()\nbike_to_city()\nreset()"
      ]
    },
    {
      "cell_type": "markdown",
      "metadata": {},
      "source": [
        "Alter the `bike_to_city` function and print out \"Moving bike to city\"\nevery time the function is called, test the function, and then move\nthe system back to the steady state.\n\n"
      ]
    },
    {
      "cell_type": "code",
      "execution_count": 1,
      "metadata": {},
      "outputs": [
        {
          "name": "stdout",
          "output_type": "stream",
          "text": [
            "Moving bike to city.\nSystem reset. Old state:\nleap    5\ncity    7\nName: state, dtype: int64\nNew state:\nleap    6\ncity    6\nName: state, dtype: int64"
          ]
        }
      ],
      "source": [
        "def bike_to_city():\n    print(\"Moving bike to city.\")\n    bikeshare.leap -= 1\n    bikeshare.city += 1\n\nbike_to_city()\nreset()"
      ]
    },
    {
      "cell_type": "markdown",
      "metadata": {},
      "source": [
        "#### Pseudorandom number generator\n\n"
      ]
    },
    {
      "cell_type": "markdown",
      "metadata": {},
      "source": [
        "As a simple model of customer behavior within the system, we use a\n*pseudorandom number generator* to determine when customers arrive at\neach bike station.\n\nThe function `modsim.flip` generates random coin tosses, i.e. it\nsimulates tosses of a fair coin with default probability 0.5 for\neither side, and returns a Boolean value, `True` or `False`.\n\nIt is based on NumPy's `random` function:\n\n"
      ]
    },
    {
      "cell_type": "code",
      "execution_count": 1,
      "metadata": {},
      "outputs": [
        {
          "name": "stdout",
          "output_type": "stream",
          "text": [
            "#+begin_example\ndef flip(p=0.5):\n    \"\"\"Flips a coin with the given probability.\n\n    p: float 0-1\n\n    returns: boolean (True or False)\n    \"\"\"\n    return np.random.random() < p\n\nNone\n#+end_example"
          ]
        }
      ],
      "source": [
        "from modsim import source_code,flip\nprint(source_code(flip))"
      ]
    },
    {
      "cell_type": "markdown",
      "metadata": {},
      "source": [
        "The statement `np.random.random() < p` generates a Boolean value.\n\nCall the function with a probability between 0 and 1, e.g. 70%. On\naverage, it will return `True` with probability 70% or `False` with\nprobability 30%:\n\n"
      ]
    },
    {
      "cell_type": "code",
      "execution_count": 1,
      "metadata": {},
      "outputs": [
        {
          "name": "stdout",
          "output_type": "stream",
          "text": [
            "True True True True True True True True False True"
          ]
        }
      ],
      "source": [
        "for _ in range(10):\n    print(flip(0.7),end=\" \")"
      ]
    },
    {
      "cell_type": "markdown",
      "metadata": {},
      "source": [
        "To control program behavior with Boolean values, we use conditional\nstatements. The general form of such a statement is as follows:\n\n    if condition:\n        # do something if condition is True\n    else:\n        # do something else if condition is False\n\nThe following program simulates a fair coin: it prints \"heads\" if the\n`flip` results in `True`, and \"tails\" if it results in `False`.\n\n"
      ]
    },
    {
      "cell_type": "code",
      "execution_count": 1,
      "metadata": {},
      "outputs": [
        {
          "name": "stdout",
          "output_type": "stream",
          "text": [
            "heads"
          ]
        }
      ],
      "source": [
        "if flip(0.5):\n    print(\"heads\")\nelse:\n    print(\"tails\")"
      ]
    },
    {
      "cell_type": "markdown",
      "metadata": {},
      "source": [
        "For the particular argument 0.5 we could have left the argument out\nsince `flip` is defined as `flip(p=0.5)` as we saw earlier, with `p=0.5` as\nthe (named) default parameter.\n\n"
      ]
    },
    {
      "cell_type": "markdown",
      "metadata": {},
      "source": [
        "#### Simulating customers as coin tosses\n\n"
      ]
    },
    {
      "cell_type": "markdown",
      "metadata": {},
      "source": [
        "We can use `flip` to simulate the arrival of customers who want to\nborrow a bike: If customers arrive at the LEAP station every two\nminutes on average (that is with certainty, or 100%), then the chance\nof an arrival during any one-minute period is 100%/2 = 50%:\n\n"
      ]
    },
    {
      "cell_type": "code",
      "execution_count": 1,
      "metadata": {},
      "outputs": [
        {
          "name": "stdout",
          "output_type": "stream",
          "text": [
            "Moving bike to city."
          ]
        }
      ],
      "source": [
        "if flip(0.5):\n    bike_to_city()"
      ]
    },
    {
      "cell_type": "markdown",
      "metadata": {},
      "source": [
        "If customers arrive at the Community Center station every three\nminutes on average, the chance of an arrival during any one-minute\nperiod is 100%/3 = 33%:\n\n"
      ]
    },
    {
      "cell_type": "code",
      "execution_count": 1,
      "metadata": {},
      "outputs": [],
      "source": [
        "if flip(0.33):\n    bike_to_city()"
      ]
    },
    {
      "cell_type": "markdown",
      "metadata": {},
      "source": [
        "Both of these snippets together with functions that change the state\nof the system can be used to simulate a time interval - in this case\none minute:\n\n"
      ]
    },
    {
      "cell_type": "code",
      "execution_count": 1,
      "metadata": {},
      "outputs": [],
      "source": [
        "def step():\n    if flip(0.5):\n        bike_to_city()\n    if flip(0.33):\n        bike_to_leap()"
      ]
    },
    {
      "cell_type": "markdown",
      "metadata": {},
      "source": [
        "Depending on the random results from `flip`, a `step` moves a bike to the\nCommunity Centre or to the LEAP bike station, or neither, or both.\n\nBefore you can try it, you need to remember how to move a bike and\ncreate the function `bike_to_leap()` to move bikes back to LEAP:\n\n"
      ]
    },
    {
      "cell_type": "code",
      "execution_count": 1,
      "metadata": {},
      "outputs": [],
      "source": [
        "def bike_to_leap():\n    print(\"Moving bike to LEAP.\")\n    bikeshare.leap += 1\n    bikeshare.city -= 1"
      ]
    },
    {
      "cell_type": "markdown",
      "metadata": {},
      "source": [
        "Simulating customers and bikes:\n\n"
      ]
    },
    {
      "cell_type": "code",
      "execution_count": 1,
      "metadata": {},
      "outputs": [
        {
          "name": "stdout",
          "output_type": "stream",
          "text": [
            "Moving bike to city."
          ]
        }
      ],
      "source": [
        "step()"
      ]
    },
    {
      "cell_type": "markdown",
      "metadata": {},
      "source": [
        "In reality, we'd need a smarter `reset()` function that is responsive to\nthe fact that we only have 12 bikes and moves bikes automatically once\nthe supply runs out at either end.\n\n"
      ]
    },
    {
      "cell_type": "markdown",
      "metadata": {},
      "source": [
        "#### Adding simulation parameters\n\n"
      ]
    },
    {
      "cell_type": "markdown",
      "metadata": {},
      "source": [
        "The previous version of `step` is fine if the arrival probabilities\nnever change but in reality they vary over time.\n\nTo account for that, we can exchange the constant values by *parameters*:\n\n"
      ]
    },
    {
      "cell_type": "code",
      "execution_count": 1,
      "metadata": {},
      "outputs": [],
      "source": [
        "def step(p1, p2):\n    if flip(p1):\n        bike_to_city()\n    if flip(p2):\n        bike_to_leap()"
      ]
    },
    {
      "cell_type": "markdown",
      "metadata": {},
      "source": [
        "Now call the function with the previous values `p1=0.5` and `p2=0.33` as\narguments:\n\n"
      ]
    },
    {
      "cell_type": "code",
      "execution_count": 1,
      "metadata": {},
      "outputs": [],
      "source": [
        "step(0.5,0.33)"
      ]
    },
    {
      "cell_type": "markdown",
      "metadata": {},
      "source": [
        "The parameters can be named or unnamed - if they're not named, you\npass *positional* arguments relying on Python to know where to put them,\nbut if you name them then you can decide the order. This is something\nto try in pythontutor.com ([example](https://pythontutor.com/render.html#code=def%20step%28p1,%20p2%29%3A%0A%20%20%20%20if%20flip%28p1%29%3A%0A%20%20%20%20%20%20%20%20bike_to_city%28%29%0A%20%20%20%20if%20flip%28p2%29%3A%0A%20%20%20%20%20%20%20%20bike_to_leap%28%29%0A%0Astep%28p2%3D0.33,p1%3D0.5%29&cumulative=false&curInstr=4&heapPrimitives=nevernest&mode=display&origin=opt-frontend.js&py=3&rawInputLstJSON=%5B%5D&textReferences=false)).\n\nYou can now run the same function many times with different parameters\neach time - e.g. to distinguish different times of day.\n\n"
      ]
    },
    {
      "cell_type": "markdown",
      "metadata": {},
      "source": [
        "#### Looping\n\n"
      ]
    },
    {
      "cell_type": "markdown",
      "metadata": {},
      "source": [
        "To repeat a chunk of code, use a `for` loop:\n\n"
      ]
    },
    {
      "cell_type": "code",
      "execution_count": 1,
      "metadata": {},
      "outputs": [
        {
          "name": "stdout",
          "output_type": "stream",
          "text": [
            "0: Moving bike to city.\n1: Moving bike to city.\n2: Moving bike to city."
          ]
        }
      ],
      "source": [
        "for _ in range(3):\n    print(_, end=\": \")\n    bike_to_city()"
      ]
    },
    {
      "cell_type": "markdown",
      "metadata": {},
      "source": [
        "Here, `range` is used to control the number of times the loop runs, and\n`_` is a convenient choice for a dummy loop variable that serves no\nother purpose than counting.\n\n"
      ]
    },
    {
      "cell_type": "markdown",
      "metadata": {},
      "source": [
        "#### `TimeSeries`\n\n"
      ]
    },
    {
      "cell_type": "markdown",
      "metadata": {},
      "source": [
        "The `modsim` library provides a `TimeSeries` object to save results for\nlater analysis: a `TimeSeries` is an event log. It contains a sequence\nof timestamps (labels) and their corresponding quantities (values).\n\n1.  Start a new `State` object (a system state).\n2.  Create a new, empty `TimeSeries` as `results`.\n3.  Print `results` (still empty).\n4.  Add a quantity (for example `bikeshare.leap`) to `results`.\n5.  Print `results` again (now containing a labelled quantity)\n\n"
      ]
    },
    {
      "cell_type": "code",
      "execution_count": 1,
      "metadata": {},
      "outputs": [],
      "source": [
        "bikeshare = State(leap=10,city=2)\nresults = TimeSeries()\nprint(results)\nresults[0] = bikeshare.leap\nprint(results)"
      ]
    },
    {
      "cell_type": "markdown",
      "metadata": {},
      "source": [
        "You can use `TimeSeries` in a loop to store the simulation results:\n\n"
      ]
    },
    {
      "cell_type": "code",
      "execution_count": 1,
      "metadata": {},
      "outputs": [
        {
          "name": "stdout",
          "output_type": "stream",
          "text": [
            "0\nMoving bike to city.\n1\nMoving bike to city.\nMoving bike to LEAP.\n2\nMoving bike to city."
          ]
        }
      ],
      "source": [
        "for i in range(3):\n    print(i)\n    step(0.6,0.6)\n    results[i+1] = bikeshare.leap"
      ]
    },
    {
      "cell_type": "markdown",
      "metadata": {},
      "source": [
        "We can display the `TimeSeries` with the `modsim.show` command:\n\n"
      ]
    },
    {
      "cell_type": "code",
      "execution_count": 1,
      "metadata": {},
      "outputs": [
        {
          "name": "stdout",
          "output_type": "stream",
          "text": [
            "Quantity\nTime          \n0           10\n1            9\n2            9\n3            8"
          ]
        }
      ],
      "source": [
        "from modsim import show\nprint(show(results))"
      ]
    },
    {
      "cell_type": "markdown",
      "metadata": {},
      "source": [
        "Recap: What does `0.6` mean again in terms of customer arrivals?\n\n"
      ]
    },
    {
      "cell_type": "markdown",
      "metadata": {},
      "source": [
        "#### Plotting simulation results\n\n"
      ]
    },
    {
      "cell_type": "markdown",
      "metadata": {},
      "source": [
        "The `Series` objects in `pandas` provide a function called `plot` that we\ncan use to plot the results. `modsim` provides `decorate` to minimally\ncustomize the plot with axis labels and title:\n\n"
      ]
    },
    {
      "cell_type": "code",
      "execution_count": 1,
      "metadata": {},
      "outputs": [],
      "source": [
        "from modsim import decorate\nresults.plot()\n\ndecorate(title='LEAP-Community Center bikeshare',\n         xlabel='Time step (min)',\n         ylabel='Number of bikes [0,12]')"
      ]
    },
    {
      "cell_type": "markdown",
      "metadata": {},
      "source": [
        "For three iterations, this is not very interesting - therefore next\nstop: iterative modeling!\n\n"
      ]
    },
    {
      "cell_type": "markdown",
      "metadata": {},
      "source": [
        "#### Summary\n\n"
      ]
    }
  ],
  "metadata": [
    [
      "org"
    ],
    null,
    null
  ],
  "nbformat": 4,
  "nbformat_minor": 0
}