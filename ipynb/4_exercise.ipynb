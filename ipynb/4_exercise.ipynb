{
  "cells": [
    {
      "cell_type": "markdown",
      "metadata": {},
      "source": [
        "### Exercises (30 points)\n\n"
      ]
    },
    {
      "cell_type": "markdown",
      "metadata": {},
      "source": [
        "Source: [Downey, Modeling and Simulation (2023), chapter 4.](https://nostarch.com/modeling-and-simulation-python)\n\n1.  `*` means easy (5 points)\n2.  `**` means medium (10 points)\n3.  `***` means hard (20 points)\n\n"
      ]
    },
    {
      "cell_type": "markdown",
      "metadata": {},
      "source": [
        "#### State initialization (`*`)\n\n"
      ]
    },
    {
      "cell_type": "markdown",
      "metadata": {},
      "source": [
        "Write a function called `make_state` that creates a `State` object with\nthe state variables `leap=10` and `city=2`, and then returns the new `State`\nobject.\n\nThen write a line of code that calls `make_state` and assigns the result\nto a variable named `init`. Print `init` using `show`.\n\nDon't forget to document your function.\n\n"
      ]
    },
    {
      "cell_type": "code",
      "execution_count": 1,
      "metadata": {},
      "outputs": [
        {
          "name": "stdout",
          "output_type": "stream",
          "text": [
            "state\nleap     10\ncity      2"
          ]
        }
      ],
      "source": [
        "from modsim import State, show\n\ndef make_state():\n    \"\"\"Initialize bikeshare system\n\n    state: 10 bikes at leap, 2 at city location\n    \"\"\"\n    state = State(leap=10,city=2)\n    return state\n\ninit = make_state()\nprint(show(init))"
      ]
    },
    {
      "cell_type": "markdown",
      "metadata": {},
      "source": [
        "#### `linspace` documentation (`*`)\n\n"
      ]
    },
    {
      "cell_type": "markdown",
      "metadata": {},
      "source": [
        "Find the documentation of `linspace` [at numpy.org](https://numpy.org/doc/stable/reference/generated/numpy.linspace.html).\n\nMake an array `arr` of 101 equally spaced points &isin; [0,1] and print it.\n\nVerify that the length of `arr` is actually 101.\n\n"
      ]
    },
    {
      "cell_type": "code",
      "execution_count": 1,
      "metadata": {},
      "outputs": [
        {
          "name": "stdout",
          "output_type": "stream",
          "text": [
            "[0.   0.01 0.02 0.03 0.04 0.05 0.06 0.07 0.08 0.09 0.1  0.11 0.12 0.13\n 0.14 0.15 0.16 0.17 0.18 0.19 0.2  0.21 0.22 0.23 0.24 0.25 0.26 0.27\n 0.28 0.29 0.3  0.31 0.32 0.33 0.34 0.35 0.36 0.37 0.38 0.39 0.4  0.41\n 0.42 0.43 0.44 0.45 0.46 0.47 0.48 0.49 0.5  0.51 0.52 0.53 0.54 0.55\n 0.56 0.57 0.58 0.59 0.6  0.61 0.62 0.63 0.64 0.65 0.66 0.67 0.68 0.69\n 0.7  0.71 0.72 0.73 0.74 0.75 0.76 0.77 0.78 0.79 0.8  0.81 0.82 0.83\n 0.84 0.85 0.86 0.87 0.88 0.89 0.9  0.91 0.92 0.93 0.94 0.95 0.96 0.97\n 0.98 0.99 1.  ]\n101"
          ]
        }
      ],
      "source": [
        "from numpy import linspace\narr = linspace(0,1,101)\nprint(arr)\nprint(len(arr))"
      ]
    },
    {
      "cell_type": "markdown",
      "metadata": {},
      "source": [
        "#### Parameter sweep at LEAP (`**`)\n\n"
      ]
    },
    {
      "cell_type": "markdown",
      "metadata": {},
      "source": [
        "Create a function `sweep_p1` that takes an array `p1_array` as\nparameter. It should create a new `SweepSeries` and run a simulation for\neach value of `p1` in `p1_array`, with `p2=0.2` and `num_steps=60`.\n\nThe function should store the results in the `SweepSeries` variable and\nreturn it.\n\nThe simulation result is a `State` object that represents the final\nstate of the system, including the performance metrics (unhappy\ncustomers, or `state.leap_empty` for `p1`.).\n\n"
      ]
    },
    {
      "cell_type": "code",
      "execution_count": 1,
      "metadata": {},
      "outputs": [],
      "source": [
        "<<def bike_to_leap>>\n<<def bike_to_city>>\n<<def step>>\n<<def run_simulation>>\n\nfrom modsim import SweepSeries\n\ndef sweep_p1(p1_array):\n    \"\"\"Run series of simulations sweeping over p1\n\n    p1_array: array of p1 values from linspace\n    \"\"\"\n    p2 = 0.2\n    num_steps = 60\n    sweep = Sweepseries()\n\n      for p1 in p1_array:\n          state = run_simulation(p1,p2,num_steps)\n          sweep[p1] = state.leap_empty\n\n      return sweep"
      ]
    },
    {
      "cell_type": "markdown",
      "metadata": {},
      "source": [
        "Now use `sweep_p1` to generate a `SweepSeries` and plot the number of\nunhappy customers at LEAP as a function of `p1`. Label the axes.\n\n"
      ]
    },
    {
      "cell_type": "code",
      "execution_count": 1,
      "metadata": {},
      "outputs": [],
      "source": [
        "p1_array = linspace(0,1,101)\nsweep = sweep_p1(p1_array)\nsweep.plot(label='LEAP', color='C1')"
      ]
    },
    {
      "cell_type": "markdown",
      "metadata": {},
      "source": [
        "#### Parameter sweep at city (`**`)\n\n"
      ]
    },
    {
      "cell_type": "markdown",
      "metadata": {},
      "source": [
        "Write a function called `sweep_p2` that runs simulations with `p1=0.5` and\na range of values for `p2`. It should store the result in a `SweepSeries`\nand return the `SweepSeries`. Plot the number of unhappy customers at\nthe city location as a function of `p2` using the color 'C2'.\n\n"
      ]
    }
  ],
  "metadata": [
    [
      "org"
    ],
    null,
    null
  ],
  "nbformat": 4,
  "nbformat_minor": 0
}