{
  "cells": [
    {
      "cell_type": "markdown",
      "metadata": {},
      "source": [
        "## Chapter 4 - Parameters and metrics\n\n"
      ]
    },
    {
      "cell_type": "markdown",
      "metadata": {},
      "source": [
        "### Functions that return values\n\n"
      ]
    },
    {
      "cell_type": "markdown",
      "metadata": {},
      "source": [
        "When you run NumPy's `sqrt`, it returns a number you can assign to a\nvariable:\n\n"
      ]
    },
    {
      "cell_type": "code",
      "execution_count": 1,
      "metadata": {},
      "outputs": [
        {
          "name": "stdout",
          "output_type": "stream",
          "text": [
            "1.4142135623730951"
          ]
        }
      ],
      "source": [
        "from numpy import sqrt\n\nroot_2 = sqrt(2)\nprint(root_2)"
      ]
    },
    {
      "cell_type": "markdown",
      "metadata": {},
      "source": [
        "When you run `State`, it returns a new `State` object:\n\n"
      ]
    },
    {
      "cell_type": "code",
      "execution_count": 1,
      "metadata": {},
      "outputs": [
        {
          "name": "stdout",
          "output_type": "stream",
          "text": [
            "state\nleap     10\ncity      2"
          ]
        }
      ],
      "source": [
        "from modsim import State, show\n\nbikeshare = State(leap=10,city=2)\nprint(show(bikeshare))"
      ]
    },
    {
      "cell_type": "markdown",
      "metadata": {},
      "source": [
        "When you run `step`, it updates a `State` object but it does not return a\nvalue.\n\nCreate a function `add_five` that takes a parameter `x` (any number), and\ndirectly returns `x + 5`. Run it with `x=3` and print the result.\n\n"
      ]
    },
    {
      "cell_type": "code",
      "execution_count": 1,
      "metadata": {},
      "outputs": [
        {
          "name": "stdout",
          "output_type": "stream",
          "text": [
            "8"
          ]
        }
      ],
      "source": [
        "def add_five(x):\n    return x + 5\n\nprint(add_five(3))"
      ]
    },
    {
      "cell_type": "markdown",
      "metadata": {},
      "source": [
        "What if you stored `x + 5` in a variable `result` and returned nothing?\nCould you still print `result` outside `add_five` somehow?\n\n"
      ]
    },
    {
      "cell_type": "code",
      "execution_count": 1,
      "metadata": {},
      "outputs": [
        {
          "name": "stdout",
          "output_type": "stream",
          "text": [
            "8"
          ]
        }
      ],
      "source": [
        "def add_five(x):\n    global result\n    result = x + 5\n    return\n\nprint(result)"
      ]
    },
    {
      "cell_type": "markdown",
      "metadata": {},
      "source": [
        "Create a version of `run_simulation` that creates a `State` object, runs a\nsimulation, and then returns the `State` object (instead of plotting\nit):\n\n1.  As parameters, use only `p1`, `p2`, `num_steps`\n2.  Define a `state` with all four state variables: 10 leap, 2 city\n    bikes, no unhappy customers\n3.  Iterate `step(state,p1,p2)` over `num_steps`\n4.  `return` `state`\n\n"
      ]
    },
    {
      "cell_type": "code",
      "execution_count": 1,
      "metadata": {},
      "outputs": [],
      "source": [
        "# def run simulation\ndef run_simulation(p1,p2,num_steps):\n    state = State(leap=10,city=2,leap_empty=0,city_empty=0)\n\n    for i in range(num_steps):\n        step(state,p1,p2)\n    return state"
      ]
    },
    {
      "cell_type": "markdown",
      "metadata": {},
      "source": [
        "Call `run_simulation` for `p1=0.3`, `p2=0.2` and `num_steps=60`, store the\nresult in `final_state`, and `show` this final state:\n\n"
      ]
    },
    {
      "cell_type": "code",
      "execution_count": 1,
      "metadata": {},
      "outputs": [
        {
          "name": "stdout",
          "output_type": "stream",
          "text": [
            "state\nleap            0\ncity           12\nleap_empty      1\ncity_empty      0"
          ]
        }
      ],
      "source": [
        "final_state = run_simulation(0.3,0.2,60)\nprint(show(final_state))"
      ]
    },
    {
      "cell_type": "markdown",
      "metadata": {},
      "source": [
        "The result is a `State` object that represents the final state of the\nsystem, including the *metrics* we'll use to evaluate the performance of\nthe system.\n\nPrint the final unhappy customer values using an f-string. Print\nunhappy customers for each location on one line.\n\n"
      ]
    },
    {
      "cell_type": "code",
      "execution_count": 1,
      "metadata": {},
      "outputs": [
        {
          "name": "stdout",
          "output_type": "stream",
          "text": [
            "Unhappy customers at LEAP: 1\nUnhappy customers at city: 0"
          ]
        }
      ],
      "source": [
        "print(f'Unhappy customers at LEAP: {final_state.leap_empty}\\nUnhappy customers at city: {final_state.city_empty}')"
      ]
    },
    {
      "cell_type": "markdown",
      "metadata": {},
      "source": [
        "Our model parameters are `p1=0.3`, `p2=0.2`, `num_steps`, `leap=10` and `city=2`.\n\n"
      ]
    },
    {
      "cell_type": "markdown",
      "metadata": {},
      "source": [
        "### Loops and arrays\n\n"
      ]
    },
    {
      "cell_type": "markdown",
      "metadata": {},
      "source": [
        "Setting the loop limit in a `for` loop with `range` only works with\nintegers:\n\n    for i in range(num_steps):\n        step(state,p1,p2)\n\nTo get a sequence of non-integer values, use NumPy's `linspace`:\n\n"
      ]
    },
    {
      "cell_type": "code",
      "execution_count": 1,
      "metadata": {},
      "outputs": [],
      "source": [
        "from numpy import linspace\n\np1_array = linspace(from=0,to=1,5)  \nprint(p1_array)"
      ]
    },
    {
      "cell_type": "markdown",
      "metadata": {},
      "source": [
        "Check out the `help` for `linspace` - which arguments are mandatory? What\nkind of arguments are they? Run the function with minimal arguments:\n\n"
      ]
    },
    {
      "cell_type": "code",
      "execution_count": 1,
      "metadata": {},
      "outputs": [
        {
          "name": "stdout",
          "output_type": "stream",
          "text": [
            "#+begin_example\n[  1.           3.02040816   5.04081633   7.06122449   9.08163265\n  11.10204082  13.12244898  15.14285714  17.16326531  19.18367347\n  21.20408163  23.2244898   25.24489796  27.26530612  29.28571429\n  31.30612245  33.32653061  35.34693878  37.36734694  39.3877551\n  41.40816327  43.42857143  45.44897959  47.46938776  49.48979592\n  51.51020408  53.53061224  55.55102041  57.57142857  59.59183673\n  61.6122449   63.63265306  65.65306122  67.67346939  69.69387755\n  71.71428571  73.73469388  75.75510204  77.7755102   79.79591837\n  81.81632653  83.83673469  85.85714286  87.87755102  89.89795918\n  91.91836735  93.93877551  95.95918367  97.97959184 100.        ]\n50\n#+end_example"
          ]
        }
      ],
      "source": [
        "print(linspace(1,100)) # 50 numbers between 1 and 100\nprint(len(linspace(1,100))) # check num"
      ]
    },
    {
      "cell_type": "markdown",
      "metadata": {},
      "source": [
        "What `type` of data structure is `linspace`?\n\n"
      ]
    },
    {
      "cell_type": "code",
      "execution_count": 1,
      "metadata": {},
      "outputs": [
        {
          "name": "stdout",
          "output_type": "stream",
          "text": [
            "<class 'numpy.ndarray'>"
          ]
        }
      ],
      "source": [
        "print(type(linspace(1,100)))"
      ]
    },
    {
      "cell_type": "markdown",
      "metadata": {},
      "source": [
        "An array is a container for a sequence of numbers, and you can now\nloop directly over the array `p1_array`:\n\n"
      ]
    },
    {
      "cell_type": "code",
      "execution_count": 1,
      "metadata": {},
      "outputs": [
        {
          "name": "stdout",
          "output_type": "stream",
          "text": [
            "0.0\n0.25\n0.5\n0.75\n1.0"
          ]
        }
      ],
      "source": [
        "for p1 in p1_array:\n    print(p1)"
      ]
    },
    {
      "cell_type": "markdown",
      "metadata": {},
      "source": [
        "### Sweeping parameters\n\n"
      ]
    },
    {
      "cell_type": "markdown",
      "metadata": {},
      "source": [
        "We can use known parameter values `p1` and `p2` to predict system behavior\n(e.g. how many bikes will be at LEAP after one hour).\n\nWe can also use a range of parameters to analyze the system and design\nalternatives, scenarios like adding more bikes or more stations.\n\nExample: if we know that `p2` is about 0.2 but we don't have information\nabout `p1`, we can run simulations for a range of `p1` values - sweep\nthrough them - and see how the results vary. We could then compare the\nresults with the actual situation and deduce the value of `p1`.\n\nExperiment:\n\n1.  Create a parameter array `p1_array` of six values `p1` $\\in [0,0.6]$.\n2.  Set `p2` to 0.2 and `num_steps` to 60\n3.  Sweep with `p1` through `p1_array`\n4.  In each iteration, run a simulation and print the number of unhappy\n    customers at LEAP (the location for `p1`)\n\n"
      ]
    },
    {
      "cell_type": "code",
      "execution_count": 1,
      "metadata": {},
      "outputs": [
        {
          "name": "stdout",
          "output_type": "stream",
          "text": [
            "p1: 0.0 Unhappy customers: 0\np1: 0.12 Unhappy customers: 0\np1: 0.24 Unhappy customers: 0\np1: 0.36 Unhappy customers: 0\np1: 0.48 Unhappy customers: 2\np1: 0.6 Unhappy customers: 11"
          ]
        }
      ],
      "source": [
        "# parameter values\np1_array = linspace(0, 0.6, 6)\np2 = 0.2\nnum_steps = 60\n\n# parameter sweep\nfor p1 in p1_array:\n    final_state = run_simulation(p1, p2, num_steps)\n    print(f'p1: {p1} Unhappy customers: {final_state.leap_empty}')"
      ]
    },
    {
      "cell_type": "markdown",
      "metadata": {},
      "source": [
        "Let's plot the results. To do this, create an empty `SweepSeries` object\nand instead of printing the final state variable, store it in the\nseries (aka vector) `sweep`:\n\n"
      ]
    },
    {
      "cell_type": "code",
      "execution_count": 1,
      "metadata": {},
      "outputs": [],
      "source": [
        "from modsim import SweepSeries\nsweep = SweepSeries()\np1_array = linspace(0, 0.6, 31)\np2 = 0.2\nnum_steps = 60\nfor p1 in p1_array:\n    final_state = run_simulation(p1,p2,num_steps)\n    sweep[p1] = final_state.leap_empty"
      ]
    },
    {
      "cell_type": "markdown",
      "metadata": {},
      "source": [
        "Remember that the `Series` objects are vectors whose elements have an ID\n(in this case the probability `p1`) and a value (the performance\nmetric). The `SweepSeries` maps from each value of `p1` to the\ncorresponding number of unhappy customers.\n\nPlot `sweep` using `plot`:\n\n"
      ]
    },
    {
      "cell_type": "code",
      "execution_count": 1,
      "metadata": {},
      "outputs": [],
      "source": [
        "sweep.plot(label='LEAP',color='C1')  # TimeSeries was plotting w/'C0'\ndecorate(title='LEAP-city bikeshare',\n         xlabel='Customer rate at LEAP (p1 in customers/min)',\n         ylabel='Number of unhappy customers at LEAP')"
      ]
    },
    {
      "cell_type": "markdown",
      "metadata": {},
      "source": [
        "What have we learnt?\n\n-   When the arrival rate at LEAP is low, there are plenty of bikes and\n    no unhappy customers.\n-   As the arrival rate increases, we are likely to run out of bikes and\n    the number of unhappy customers increases accordingly (though not\n    linearly - why not?).\n\n"
      ]
    },
    {
      "cell_type": "markdown",
      "metadata": {},
      "source": [
        "### Incremental model development\n\n"
      ]
    },
    {
      "cell_type": "markdown",
      "metadata": {},
      "source": [
        "Incremental development helps to minimize the pain of debugging\n(though we'll switch into debugging mode after fall break):\n\n1.  Always start with a working program.\n2.  Make one small, testable change at a time.\n3.  Run the program and see if the change worked.\n\nProblems with this approach:\n\n-   You may have to create extra *scaffolding* code to get visible output.\n-   In the beginning, it is not obvious how to add code to solve more\n    complex problems. Mapping the problem out mathematically might help.\n\n"
      ]
    },
    {
      "cell_type": "markdown",
      "metadata": {},
      "source": [
        "### Summary\n\n"
      ]
    },
    {
      "cell_type": "markdown",
      "metadata": {},
      "source": [
        "This chapter introduced functions that return values, which we used to\nwrite a version of run<sub>simulation</sub> that returns a State object with the\nfinal state of the system. It also introduced `linspace`, which we used\nto create a NumPy array, and `SweepSeries`, which we used to store the\nresults of a parameter `sweep`. We used a parameter `sweep` to explore the\nrelationship between one of the parameters, `p1`, and the number of\nunhappy customers, which is a metric that quantifies how well (or\nbadly) the system works. In the exercises, you’ll have a chance to\nsweep other parameters and compute other metrics.  In the next lesson,\nwe’ll move on to a new problem, modeling and predicting world\n*population growth*.\n\n"
      ]
    },
    {
      "cell_type": "markdown",
      "metadata": {},
      "source": [
        "### Exercises\n\n"
      ]
    }
  ],
  "metadata": [
    [
      "org"
    ],
    null,
    null
  ],
  "nbformat": 4,
  "nbformat_minor": 0
}