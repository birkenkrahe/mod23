{
  "cells": [
    {
      "cell_type": "markdown",
      "metadata": {},
      "source": [
        "### Exercises 3 (30 points)\n\n"
      ]
    },
    {
      "cell_type": "markdown",
      "metadata": {},
      "source": [
        "1.  `*` means easy (10 points)\n2.  `**` means medium (20 points)\n3.  `***` means hard (30 points)\n\n"
      ]
    },
    {
      "cell_type": "markdown",
      "metadata": {},
      "source": [
        "#### Add docstrings (`*`)\n\n"
      ]
    },
    {
      "cell_type": "markdown",
      "metadata": {},
      "source": [
        "Before starting the exercise, make sure that you have all of the code\nwritten so far in one place:\n\n1.  `run_simulation(state,p1,p2,num_steps)`\n2.  `step(state,p1,p2)`\n3.  `bike_to_city(state)`\n4.  `bike_to_leap(state)`\n\nComplete the function definitions with docstrings, which includes a\nshort description of what the function does followed by a list of\nparameters explained.\n\nSolution:\n\n"
      ]
    },
    {
      "cell_type": "code",
      "execution_count": 1,
      "metadata": {},
      "outputs": [],
      "source": [
        "# Import library functions\nfrom modsim import State, TimeSeries, show, flip, decorate"
      ]
    },
    {
      "cell_type": "code",
      "execution_count": 1,
      "metadata": {},
      "outputs": [],
      "source": [
        "# define: run simulation\ndef run_simulation(state, p1, p2, num_steps):\n    \"\"\"Simulate the given number of time steps and plot result\n\n    state: bikeshare State object\n    p1: probability of a LEAP -> city ride\n    p2: probability of a city -> LEAP ride\n    num_steps: number of time steps [min]\n    \"\"\"\n    # initialize results\n    results = TimeSeries()  # initialize empty series\n    results [0] = state.leap  # first result initialized with leap state\n\n    # iterate states\n    for i in range(num_steps):  # iterate num_steps times\n        step(state,p1,p2)  # simulate customers at both stations\n        results[i+1] = state.leap\n\n    # plot results\n    results.plot(label = 'LEAP')\n    decorate(title='LEAP-City Bikeshare',\n             xlabel='Time step [min]',\n             ylabel='Number of bikes')\n\n# define: step \ndef step(state,p1,p2):\n    \"\"\"Simulate one time step.\n\n    state: bikeshare State object\n    p1: probability of a LEAP -> city ride\n    p2: probability of a city -> LEAP ride\n    \"\"\"\n    # simulate rides\n    if flip(p1):\n        bike_to_city(state)\n    if flip(p2):\n        bike_to_leap(state)\n\n# define: move bike from LEAP to city\ndef bike_to_city(state):\n    \"\"\"Move one bike from LEAP to city.\n\n    state: bikeshare State object\n    \"\"\"\n    if state.leap == 0: # no bikes available at LEAP\n        state.leap_empty += 1  # one unhappy customer\n        return\n    # bikes are available at LEAP\n    state.leap -= 1\n    state.city += 1\n\n# define: move bike from city to LEAP \ndef bike_to_leap(state):\n    \"\"\"Move one bike from city to LEAP.\n\n    state: bikeshare State object\n    \"\"\"\n    if state.city == 0: # no bikes available at city\n        state.city_empty += 1  # one unhappy customer\n        return\n    # bikes are available at city\n    state.leap += 1\n    state.city -= 1"
      ]
    },
    {
      "cell_type": "markdown",
      "metadata": {},
      "source": [
        "#### Unhappy customers at the LEAP station (`*`)\n\n"
      ]
    },
    {
      "cell_type": "markdown",
      "metadata": {},
      "source": [
        "Modify the update function `bike_to_city` so that it checks whether a\nbike is available at LEAP. If not, it should add `1` to `leap_empty`\n(equivalent to one unhappy customer at the LEAP station).\n\nTo test the function, create a `State` that initializes `leap` and\n`leap_empty` to `0`, run `bike_to_city` and check the result.\n\nSolution:\n\n"
      ]
    },
    {
      "cell_type": "code",
      "execution_count": 1,
      "metadata": {},
      "outputs": [
        {
          "name": "stdout",
          "output_type": "stream",
          "text": [
            "state\nleap            0\ncity           12\nleap_empty      0\n            state\nleap            0\ncity           12\nleap_empty      1"
          ]
        }
      ],
      "source": [
        "## definition\ndef bike_to_city(state):\n    if state.leap == 0:\n        state.leap_empty += 1\n        return\n    state.leap -= 1\n    state.city += 1\n\n## initialization\nbikeshare = State(leap = 0,\n                  city = 12,\n                  leap_empty = 0)\n\n## testing\nprint(show(bikeshare))  # state before update\nbike_to_city(bikeshare)  # update with check\nprint(show(bikeshare)) # state after update"
      ]
    },
    {
      "cell_type": "markdown",
      "metadata": {},
      "source": [
        "#### Run a simulation without negative bikes (`*`)\n\n"
      ]
    },
    {
      "cell_type": "markdown",
      "metadata": {},
      "source": [
        "Run the simulation with parameters `p1=0.3`, `p2=0.2`, and `num_steps=60`,\nand confirm that the number of bikes is never negative.\n\nStart with this initial state: 10 bikes at city, 2 bikes at LEAP, and\nno unhappy customers at either location.\n\nSolution:\n\nAt this point, what if you don't remember the exact order of\n`run_simulation` anymore, or if you don't remember if you defined\nkeyword parameters (with defaults)?\n\n"
      ]
    },
    {
      "cell_type": "code",
      "execution_count": 1,
      "metadata": {},
      "outputs": [
        {
          "name": "stdout",
          "output_type": "stream",
          "text": [
            "Help on function run_simulation in module __main__:\n\nrun_simulation(state, p1, p2, num_steps)\n    Simulate the given number of time steps and plot result\n    \n    state: bikeshare State object\n    p1: probability of a LEAP -> city ride\n    p2: probability of a city -> LEAP ride\n    num_steps: number of time steps [min]"
          ]
        }
      ],
      "source": [
        "help(run_simulation)"
      ]
    },
    {
      "cell_type": "code",
      "execution_count": 1,
      "metadata": {},
      "outputs": [],
      "source": [
        "# define a state with four variables:\n# 10 bikes at city, 2 at leap, and no unhappy customers anywhere\nbikeshare = State(city=10,leap=2,leap_empty=0,city_empty=0)\nrun_simulation(state=bikeshare,p1=0.3,p2=0.2,num_steps=5)"
      ]
    }
  ],
  "metadata": [
    [
      "org"
    ],
    null,
    null
  ],
  "nbformat": 4,
  "nbformat_minor": 0
}