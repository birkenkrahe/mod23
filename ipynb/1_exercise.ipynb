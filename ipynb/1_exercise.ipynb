{
  "cells": [
    {
      "cell_type": "markdown",
      "metadata": {},
      "source": [
        "### Exercise 1\n\n"
      ]
    },
    {
      "cell_type": "markdown",
      "metadata": {},
      "source": [
        "Our first batch of exercises comes (mostly) from the textbook by\nDowney. I have marked the difficulty:\n\n-   'hard' (`***`) = 30 points\n-   'medium' (`***`) = 20 points\n-   'easy' (`***`) = 10 points\n\nWe'll briefly discuss the solutions in class. Enjoy.\n\n"
      ]
    },
    {
      "cell_type": "markdown",
      "metadata": {},
      "source": [
        "#### Mathematical functions (`*`)\n\n"
      ]
    },
    {
      "cell_type": "markdown",
      "metadata": {},
      "source": [
        "1.  Import $\\pi$, sine, cosine and ~\\sqrt{}$ from NumPy on one line.\n2.  Compute $sin^2(\\pi/4)+cos^2(\\pi/4)$. The result is approximately 1,\n    because $\\forall\\theta\\in(0,360]: sin^2(\\theta) + cos^2(\\theta) =\n       1$.\n3.  Mathematically, both sine and cosine of $\\pi/4$ are\n    $1/sqrt{2}$. Compute this expression, and print out the difference\n    between the two results, too.\n\nSolution:\n\n"
      ]
    },
    {
      "cell_type": "code",
      "execution_count": 1,
      "metadata": {},
      "outputs": [
        {
          "name": "stdout",
          "output_type": "stream",
          "text": [
            "1.0000000000000002\n0.9999999999999998\n4.440892098500626e-16"
          ]
        }
      ],
      "source": [
        "from numpy import pi, sin, cos, sqrt\nx = sin(pi/4)**2+cos(pi/4)**2\nprint(x)\ny = (1/sqrt(2))**2 + (1/sqrt(2))**2\nprint(y)\nprint(x-y)"
      ]
    },
    {
      "cell_type": "markdown",
      "metadata": {},
      "source": [
        "#### Python errors (`**`)\n\n"
      ]
    },
    {
      "cell_type": "markdown",
      "metadata": {},
      "source": [
        "Use the falling penny myth Python example to generate four different\nPython errors: `SyntaxError`, `NameError`, `TypeError` and `ValueError`.\n\nTo show all errors, use the equations for velocity, $v = a t$, and for\ntime, $t = \\sqrt{2 h / a}$, where $a$ denotes the acceleration.\n\nYou have to use a different solution for each code cell. You can also\ncheck if the AI can debug your deliberate errors.\n\n"
      ]
    },
    {
      "cell_type": "code",
      "execution_count": 1,
      "metadata": {},
      "outputs": [],
      "source": [
        "# SyntaxError\nprint(v = a t)"
      ]
    },
    {
      "cell_type": "code",
      "execution_count": 1,
      "metadata": {},
      "outputs": [],
      "source": [
        "# NameError\nv = a * t"
      ]
    },
    {
      "cell_type": "code",
      "execution_count": 1,
      "metadata": {},
      "outputs": [],
      "source": [
        "# TypeError\na = 9.8\nt = '3.4'\nv = a * t"
      ]
    },
    {
      "cell_type": "code",
      "execution_count": 1,
      "metadata": {},
      "outputs": [],
      "source": [
        "# ValueError\na = 9.8\nt = 3.4\nv = a * t\nprint(float('v'))"
      ]
    },
    {
      "cell_type": "markdown",
      "metadata": {},
      "source": [
        "#### Falling penny revisited (`**`)\n\n"
      ]
    },
    {
      "cell_type": "markdown",
      "metadata": {},
      "source": [
        "Suppose you bring a 10-foot pole to the top of the Empire State\nBuilding and use it to drop the penny from `h` plus 10 feet.\n\n1.  Define a variable named `foot` that contains the unit `foot` provided\n    by the `UnitRegistry()` named `units`.\n2.  Define a variable named `pole_height` and give it the value 10 feet.\n3.  Add `h = 381 * meter` to `pole_height`, which is in feet.\n4.  Write the addition the other way around.\n5.  Print the results using f-strings.\n\nSolution:\n\n"
      ]
    },
    {
      "cell_type": "code",
      "execution_count": 1,
      "metadata": {},
      "outputs": [
        {
          "name": "stdout",
          "output_type": "stream",
          "text": [
            "h [m] plus pole_height [ft]: 384.048 meter\npole_height [ft] plus h [m]: 1260.0 foot"
          ]
        }
      ],
      "source": [
        "# import pint.UnitRegistry\nfrom pint import UnitRegistry\n# create instance of UnitRegistry\nunits = UnitRegistry()\n# define meter and foot\nmeter = units.meter\nfoot = units.foot\n# define pole_height\npole_height = 10 * foot\n# define height h\nh = 381 * meter\n# add h to pole_height\nprint(f'h [m] plus pole_height [ft]: {h + pole_height}')\n# add pole_height to h\nprint(f'pole_height [ft] plus h [m]: {pole_height + h}')"
      ]
    },
    {
      "cell_type": "markdown",
      "metadata": {},
      "source": [
        "#### Combining models (`***`)\n\n"
      ]
    },
    {
      "cell_type": "markdown",
      "metadata": {},
      "source": [
        "So far, we have considered two models of a falling penny:\n\n1.  If we ignore air resistance, the penny falls with constant\n    acceleration, and we can compute the time `t` to reach the sidewalk\n    and the velocity `v` of the penny when it gets there.\n2.  If we take air resistance into account, and drop the penny at its\n    terminal velocity, it falls with constant velocity `v_t`.\n\nNow, let's consider a third model that includes elements of the first\ntwo: assume that the acceleration of the penny is `a` until the penny\nreaches $29 m/s$, and then $0 m/s^2$ afterwards. What is the total\ntime for the penny to fall $381m$?\n\nTip: you can break this question into three parts:\n\n1.  How long would the penny take to reach terminal velocity with\n    constant acceleration `a`?\n2.  How far would it fall during that time?\n3.  How long would it take to fall the remaining distance with terminal\n    velocity?\n\nAssign each intermediate result to a variable with a meaningful\nname. And assign units to all quantities!\n\n"
      ]
    },
    {
      "cell_type": "markdown",
      "metadata": {},
      "source": [
        "##### Solution\n\n"
      ]
    },
    {
      "cell_type": "markdown",
      "metadata": {},
      "source": [
        "Establish units:\n\n"
      ]
    },
    {
      "cell_type": "code",
      "execution_count": 1,
      "metadata": {},
      "outputs": [],
      "source": [
        "from pint import UnitRegistry\nunits = UnitRegistry()\nmeter = units.meter\nsecond = units.second"
      ]
    },
    {
      "cell_type": "markdown",
      "metadata": {},
      "source": [
        "Establish constants:\n\n"
      ]
    },
    {
      "cell_type": "code",
      "execution_count": 1,
      "metadata": {},
      "outputs": [],
      "source": [
        "g = 9.8 * meter / second**2\nh = 381 * meter\nv_t = 29 * meter / second"
      ]
    },
    {
      "cell_type": "markdown",
      "metadata": {},
      "source": [
        "1.  How long would the penny take to reach terminal velocity with\n    constant acceleration `a = g`?\n\n"
      ]
    },
    {
      "cell_type": "code",
      "execution_count": 1,
      "metadata": {},
      "outputs": [
        {
          "name": "stdout",
          "output_type": "stream",
          "text": [
            ": Time to reach terminal velocity: 2.96 seconds"
          ]
        }
      ],
      "source": [
        "t_1 = v_t / g\nprint(f'Time to reach terminal velocity: {t_1:.2f}s')"
      ]
    },
    {
      "cell_type": "markdown",
      "metadata": {},
      "source": [
        "1.  How far would it fall during that time?\n\n"
      ]
    },
    {
      "cell_type": "code",
      "execution_count": 1,
      "metadata": {},
      "outputs": [
        {
          "name": "stdout",
          "output_type": "stream",
          "text": [
            ": Height fallen in that time: 42.91 meters"
          ]
        }
      ],
      "source": [
        "# distance h_1 traveled with constant acceleration g during t_1\nh_1 = g * t_1**2 / 2\nprint(f'Height fallen in that time: {h_1:.2f}s')"
      ]
    },
    {
      "cell_type": "markdown",
      "metadata": {},
      "source": [
        "1.  How long would it take to fall the remaining distance with terminal\n    velocity (and zero acceleration)?\n\n"
      ]
    },
    {
      "cell_type": "code",
      "execution_count": 1,
      "metadata": {},
      "outputs": [
        {
          "name": "stdout",
          "output_type": "stream",
          "text": [
            ": Time to fall the remaining distance: 11.66 seconds"
          ]
        }
      ],
      "source": [
        "t_2 = (h - h_1) / v_t\nprint(f'Time to fall the remaining distance: {t_2:.2f}s')"
      ]
    },
    {
      "cell_type": "markdown",
      "metadata": {},
      "source": [
        "Therefore:\n\n"
      ]
    },
    {
      "cell_type": "code",
      "execution_count": 1,
      "metadata": {},
      "outputs": [
        {
          "name": "stdout",
          "output_type": "stream",
          "text": [
            "Total time to fall from Empire State building: 14.62 seconds"
          ]
        }
      ],
      "source": [
        "print(f'Total time to fall from Empire State building: {t_1+t_2:.2f}s')"
      ]
    },
    {
      "cell_type": "markdown",
      "metadata": {},
      "source": [
        "Alternatively, you can also solve the problem mathematically first and\ncompute:\n\n\\begin{equation}\n t_1 = \\frac{v_t}{g} \n\\end{equation}\n\n\\begin{equation}\nh_1 = \\frac{g t_1^2}{2} = \\frac{g v_t^2}{2g}\n\\end{equation}\n\n\\begin{equation}\n t_2 = \\frac{(h-h_1)}{v_t} = \\frac{(h-\\frac{g v_t^2}{2g})}{v_t}\n                           = \\frac{1}{v_t}(h - \\frac{v_t^2}{2g})\n\\end{equation}\n\n\\begin{equation}\n t = t_1 + t_2 = \\frac{v_t}{g} + \\frac{1}{v_t}(h - \\frac{v_t^2}{2g})\n\\end{equation}\n\nOr in code:\n\n"
      ]
    },
    {
      "cell_type": "code",
      "execution_count": 1,
      "metadata": {},
      "outputs": [
        {
          "name": "stdout",
          "output_type": "stream",
          "text": [
            "Total time to fall from Empire State building: 14.62 seconds"
          ]
        }
      ],
      "source": [
        "t = v_t/g + (h - v_t**2/(2*g))/v_t\nprint(f'Total time to fall from Empire State building: {t:.2f}s')"
      ]
    }
  ],
  "metadata": [
    [
      "org"
    ],
    null,
    null
  ],
  "nbformat": 4,
  "nbformat_minor": 0
}