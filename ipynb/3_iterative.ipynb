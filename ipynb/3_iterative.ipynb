{
  "cells": [
    {
      "cell_type": "markdown",
      "metadata": {},
      "source": [
        "## Chapter 3 - Iterative modeling\n\n"
      ]
    },
    {
      "cell_type": "markdown",
      "metadata": {},
      "source": [
        "### README\n\n"
      ]
    },
    {
      "cell_type": "markdown",
      "metadata": {},
      "source": [
        "Improving quality of the code and quality of the model.\n\n-   Iterating the bike share model\n-   Using more than one `State` object\n-   Adding docstrings\n-   Dealing with negative bikes\n-   Introducing comparison operators\n-   Introducing metrics\n-   Summary and exercises\n\n"
      ]
    },
    {
      "cell_type": "markdown",
      "metadata": {},
      "source": [
        "### Iterative modeling\n\n"
      ]
    },
    {
      "cell_type": "markdown",
      "metadata": {},
      "source": [
        "Iterative modeling means starting with a simple model, identifying the\nmost important issues for the problem setting, and making gradual\nimprovements.\n\nWhat assumptions is the bike share model based on? In which ways is it\nunrealistic - what are the differences between the model and the real\nworld?\n\n1.  Customer arrival probability varies over time.\n2.  Travel time between bike stations is not zero.\n3.  Bike availability is not guaranteed.\n4.  LEAP and Community Centre look completely different.\n5.  There are more customers at the Community Centre.\n6.  Customers come in different types.\n7.  Bikes come in different types.\n8.  Checking out bikes might cost money.\n\nAre any of these more relevant than others? Relevance depends on the\npurpose for the modeling simulation. What is our likely purpose?\n\n-   Understand the system with its elements, relationships, boundary and\n    the resulting states.\n\nFor this purpose, specific details about the elements (e.g. type of\nbike or type of customer) could be important once we've understood the\nbasic dynamics (i.e. evolution over time).\n\nThe different looks (and location in town) of our stations might\naffect the arrival/checkout probability: more students at LEAP but\nmore people overall at the Community Centre.\n\nTypes of customer is important if we're trying to make a prediction by\ncustomer type - like \"which age group is most likely to check out a\nbike?\" Same for the bike type - which bikes should we buy?\n\nThe first assumption (time dependency) can be neglected if we simulate\nover a short period of time (like one hour).\n\nThe second assumption (travel time between stations) might not affect\nthe results very much depending on the distance between stations - but\nif we're after the impact of this feature on the dynamic of the model,\nwe have to add it.\n\nThe third assumption is important because negative bike numbers are an\nobvious violation of the physical laws and just don't make sense.\n\n"
      ]
    },
    {
      "cell_type": "markdown",
      "metadata": {},
      "source": [
        "### Using more than one `State` object\n\n"
      ]
    },
    {
      "cell_type": "markdown",
      "metadata": {},
      "source": [
        "What if there is more than one bike share system, or if we want to run\nmore than one simulation? We need to be able to define more than one\nset of state variables.\n\nImport `modsim`, then redefine the update functions:\n\n"
      ]
    },
    {
      "cell_type": "code",
      "execution_count": 1,
      "metadata": {},
      "outputs": [],
      "source": [
        "# import State from modsim\nfrom modsim import State, show, source_code, flip, TimeSeries\n\n# redefine `bike_to_city()` to take the argument `state`\ndef bike_to_city(state):\n    print(\"Moving bike to city Community Center.\")\n    state.leap -= 1\n    state.city += 1\n\n# redefine `bike_to_city()` to take the argument `state`\ndef bike_to_leap(state):\n    print(\"Moving bike to Lyon's LEAP.\")\n    state.leap += 1\n    state.city -= 1"
      ]
    },
    {
      "cell_type": "markdown",
      "metadata": {},
      "source": [
        "The value of `state` could be any `State` object not just `bikeshare`. When\nwe now update the bike stations, we need to supply a `State` object:\n\n"
      ]
    },
    {
      "cell_type": "code",
      "execution_count": 1,
      "metadata": {},
      "outputs": [
        {
          "name": "stdout",
          "output_type": "stream",
          "text": [
            "Moving bike to city Community Center.\n      state\ncity     11\nleap      1"
          ]
        }
      ],
      "source": [
        "# Initialize a `bikeshare` State\nbikeshare = State(city=10,leap=2)\n\n# Move a bike to city\nbike_to_city(bikeshare)\n\n# Show the state of `bikeshare`\nprint(show(bikeshare))"
      ]
    },
    {
      "cell_type": "markdown",
      "metadata": {},
      "source": [
        "The update call has the same effect as:\n\n    state = bikeshare\n    state.leap -= 1\n    state.city += 1\n\nNotice the difference between the `state` parameter in the update\nfunction, which accepts `State` arguments.\n\nNow we can create as many `State` objects as we want, and update them\nindependently:\n\n"
      ]
    },
    {
      "cell_type": "code",
      "execution_count": 1,
      "metadata": {},
      "outputs": [
        {
          "name": "stdout",
          "output_type": "stream",
          "text": [
            "Moving bike to city Community Center.\n      state\ncity     11\nleap      1\nMoving bike to city Community Center.\n      state\ncity      3\nleap      9"
          ]
        }
      ],
      "source": [
        "# define two states, `bikeshare1` and `bikeshare2`\nbikeshare1 = State(city=10,leap=2)\nbikeshare2 = State(city=2,leap=10)\n\n# Move a bike to city in both states and show them\nbike_to_city(bikeshare1)\nprint(show(bikeshare1))\nbike_to_city(bikeshare2)\nprint(show(bikeshare2))"
      ]
    },
    {
      "cell_type": "markdown",
      "metadata": {},
      "source": [
        "Changes in either state do not affect the other. Now we can simulate\ndifferent bike share systems (e.g. different initial conditions), or\nrun multiple simulations.\n\n"
      ]
    },
    {
      "cell_type": "markdown",
      "metadata": {},
      "source": [
        "### Adding docstrings\n\n"
      ]
    },
    {
      "cell_type": "markdown",
      "metadata": {},
      "source": [
        "There are two types of in-program documentation:\n\n1.  comments (use liberally) after `#`\n2.  docstrings (use strategically) between `\"\"\"`\n\nIn IPython, you get the docstring when asking for help with `?`.\n\nAdd the following documentation to the update functions by printing\nthe text between two sets of `\"\"\"` marks on the next line after the `def`\nline, then print the docstring:\n\n    \"\"\"Move one bike from [station1] to [station2]\n       state: bikeshare State object\n    \"\"\"\n\n"
      ]
    },
    {
      "cell_type": "code",
      "execution_count": 1,
      "metadata": {},
      "outputs": [],
      "source": [
        "def bike_to_city(state):\n    \"\"\"Move one bike from LEAP to city community center.\n\n    state: bikeshare State object\n    \"\"\"\n    print(\"Moving bike to city Community Center.\")\n    state.leap -= 1\n    state.city += 1\n\ndef bike_to_leap(state):\n    \"\"\"Move one bike from city community center to LEAP.\n\n    state: bikeshare State object\n    \"\"\"\n    print(\"Moving bike to Lyon's LEAP.\")\n    state.leap += 1\n    state.city -= 1"
      ]
    },
    {
      "cell_type": "markdown",
      "metadata": {},
      "source": [
        "Calling the help with `help`:\n\n"
      ]
    },
    {
      "cell_type": "code",
      "execution_count": 1,
      "metadata": {},
      "outputs": [
        {
          "name": "stdout",
          "output_type": "stream",
          "text": [
            "#+begin_example\nHelp on function bike_to_city in module __main__:\n\nbike_to_city(state)\n    Move one bike from LEAP to city community center.\n\n    state: bikeshare State object\n\nHelp on function bike_to_leap in module __main__:\n\nbike_to_leap(state)\n    Move one bike from city community center to LEAP.\n\n    state: bikeshare State object\n#+end_example"
          ]
        }
      ],
      "source": [
        "help(bike_to_city)\nhelp(bike_to_leap)"
      ]
    },
    {
      "cell_type": "markdown",
      "metadata": {},
      "source": [
        "What happens if you enter `help(bike_to_city())` and\n`help(bike_to_city(state))` - explain the errors!\n\n"
      ]
    },
    {
      "cell_type": "markdown",
      "metadata": {},
      "source": [
        "### Scope and keyword parameter\n\n"
      ]
    },
    {
      "cell_type": "markdown",
      "metadata": {},
      "source": [
        "You can call the function `updateState` without argument because the\nfunction definition has a default value.\n\n"
      ]
    },
    {
      "cell_type": "code",
      "execution_count": 1,
      "metadata": {},
      "outputs": [
        {
          "name": "stdout",
          "output_type": "stream",
          "text": [
            "state\nvariable      9"
          ]
        }
      ],
      "source": [
        "from modsim import State, show\n\ndef updateState(state=State(variable=10)):\n    state.variable -= 1\n    return print(show(state))\n\nupdateState()"
      ]
    },
    {
      "cell_type": "markdown",
      "metadata": {},
      "source": [
        "If you return `state` from within the function, it will not be known\noutside unless\n\n"
      ]
    },
    {
      "cell_type": "code",
      "execution_count": 1,
      "metadata": {},
      "outputs": [],
      "source": [
        "from modsim import State, show\n\ndef updateState(state=State(variable=10)):\n    state.variable -= 1\n    return state\n\nZustand = updateState()\nprint(show(Zustand))\nprint(state)"
      ]
    },
    {
      "cell_type": "markdown",
      "metadata": {},
      "source": [
        "As an exercise, make this last block safe for `print(state)`, for the\ncall of an unknown state:\n\n"
      ]
    },
    {
      "cell_type": "code",
      "execution_count": 1,
      "metadata": {},
      "outputs": [],
      "source": [
        "from modsim import State, show\n\ndef updateState(state=State(variable=10)):\n    state.variable -= 1\n    return state\n\nZustand = updateState()\nprint(show(Zustand))\ntry:\n    print(state)\nexcept NameError:\n    print(\"`state` is not known\")"
      ]
    },
    {
      "cell_type": "markdown",
      "metadata": {},
      "source": [
        "### Dealing with negative bikes\n\n"
      ]
    },
    {
      "cell_type": "markdown",
      "metadata": {},
      "source": [
        "To account for negative bikes, add a conditional statement to the\nupdate function and test if the update would lead to a negative\n`state.leap`, the state at the LEAP station:\n\n"
      ]
    },
    {
      "cell_type": "code",
      "execution_count": 1,
      "metadata": {},
      "outputs": [],
      "source": [
        "def bike_to_city(state):\n    if state.leap == 0:\n    return  # no return value, or rather `None`\n\n    state.city += 1\n    state.leap -= 1"
      ]
    },
    {
      "cell_type": "markdown",
      "metadata": {},
      "source": [
        "Test this function for zero and non-zero values of `state.city`:\n\n"
      ]
    },
    {
      "cell_type": "code",
      "execution_count": 1,
      "metadata": {},
      "outputs": [
        {
          "name": "stdout",
          "output_type": "stream",
          "text": [
            "state\ncity     11\nleap      1\n      state\ncity     12\nleap      0"
          ]
        }
      ],
      "source": [
        "## ten bikes at city, 2 bikes at leap\nbikeshare1 = State(city=10,leap=2)\nbike_to_city(bikeshare1)\nprint(show(bikeshare1))\n\n## all bikes at city, no bikes at leap\nbikeshare2 = State(city=12,leap=0)\nbike_to_city(bikeshare2)  # this would lead to leap = -1\nprint(show(bikeshare2))"
      ]
    },
    {
      "cell_type": "markdown",
      "metadata": {},
      "source": [
        "When a function encounters a `return` statement with or without return\nvalue, it ends immediately ignoring the remainder of its statements.\n\nActually, the story is more complicated: an empty `return` statement\nreturns a value `None`. Can you show this by writing a function? What\ndata type is `None`?\n\n"
      ]
    },
    {
      "cell_type": "code",
      "execution_count": 1,
      "metadata": {},
      "outputs": [
        {
          "name": "stdout",
          "output_type": "stream",
          "text": [
            "None\n<class 'NoneType'>"
          ]
        }
      ],
      "source": [
        "def returnDemo():\n    # functions don't HAVE to do something\n    return\n\nr = returnDemo()\nprint(r)\nprint(type(None))"
      ]
    },
    {
      "cell_type": "markdown",
      "metadata": {},
      "source": [
        "So `None` is of the type `NoneType` (there is no other variable in that\nclass). It represents a missing value. It's not equivalent to `0` or\n`False` or an empty data structure like an empty list `[]`.\n\nNo more negative bikes at LEAP. Write an update function so that at\nthe city community center we will also never have negative bikes:\n\n"
      ]
    },
    {
      "cell_type": "code",
      "execution_count": 1,
      "metadata": {},
      "outputs": [],
      "source": [
        "def bike_to_leap(state):\n    if state.city == 0:\n        return\n    state.leap += 1\n    state.city -= 1"
      ]
    },
    {
      "cell_type": "markdown",
      "metadata": {},
      "source": [
        "Test the function `bike_to_leap` for negative bikes at LEAP:\n\n"
      ]
    },
    {
      "cell_type": "code",
      "execution_count": 1,
      "metadata": {},
      "outputs": [
        {
          "name": "stdout",
          "output_type": "stream",
          "text": [
            "state\nleap      8\ncity      4\n      state\nleap     12\ncity      0"
          ]
        }
      ],
      "source": [
        "## 7 bikes at leap, 5 bikes at city\nbikeshare1 = State(leap=7,city=5)\nbike_to_leap(bikeshare1)\nprint(show(bikeshare1))\n\n## all 12 bikes at leap, no bikes at city\nbikeshare2 = State(leap=12,city=0)\nbike_to_leap(bikeshare2)\nprint(show(bikeshare2))"
      ]
    },
    {
      "cell_type": "markdown",
      "metadata": {},
      "source": [
        "### Using comparison operators\n\n"
      ]
    },
    {
      "cell_type": "markdown",
      "metadata": {},
      "source": [
        "Don't confuse the assignment operator `=` with the comparison operator\n`==`. The former distributes computer memory to variables and spits out\nnothing while the latter checks equality and spits out a Boolean\nvalue.\n\nThe assignment operator does, the comparison operator does not change\nthe value of its left hand side argument:\n\n"
      ]
    },
    {
      "cell_type": "code",
      "execution_count": 1,
      "metadata": {},
      "outputs": [
        {
          "name": "stdout",
          "output_type": "stream",
          "text": [
            "5\nTrue"
          ]
        }
      ],
      "source": [
        "x = 5  # changes value of x\nprint(x)\nprint(x == 5)  # does not change value of x"
      ]
    },
    {
      "cell_type": "markdown",
      "metadata": {},
      "source": [
        "What error do you get if you mess this up in a conditional statement?\n\n1.  Set x to 5, check `if` it is 5 and `print` \"x is 5\" (use an f-string).\n2.  Now assign x to 5 in the conditional statement and run it again.\n\n"
      ]
    },
    {
      "cell_type": "code",
      "execution_count": 1,
      "metadata": {},
      "outputs": [
        {
          "name": "stdout",
          "output_type": "stream",
          "text": [
            "x is 5"
          ]
        }
      ],
      "source": [
        "x = 5\nif x == 5:\n    print(f'x is {x}')"
      ]
    },
    {
      "cell_type": "markdown",
      "metadata": {},
      "source": [
        "Write a conditional statement that checks if x is NOT 5 using the\ncomparison operator `!=`. Start by assigning x to 6 and print \"x is not\n5 but 6\". Use an f-string.\n\n"
      ]
    },
    {
      "cell_type": "code",
      "execution_count": 1,
      "metadata": {},
      "outputs": [
        {
          "name": "stdout",
          "output_type": "stream",
          "text": [
            "x is not 5 but 6"
          ]
        }
      ],
      "source": [
        "x = 6\ny = 5\nif x != y:\n    print(f'x is not {y} but {x}')"
      ]
    },
    {
      "cell_type": "markdown",
      "metadata": {},
      "source": [
        "To check for `None`, do not use `==` but the `is` keyword:\n\n"
      ]
    },
    {
      "cell_type": "code",
      "execution_count": 1,
      "metadata": {},
      "outputs": [
        {
          "name": "stdout",
          "output_type": "stream",
          "text": [
            "x is None!"
          ]
        }
      ],
      "source": [
        "x = None\nif x is None:\n    print(\"x is None!\")"
      ]
    },
    {
      "cell_type": "markdown",
      "metadata": {},
      "source": [
        "The comparison operator will not lead to an error or an exception but\nto logical errors because `==` checks for **equality** whereas `is` checks for\n**identity** - it's better practice to use the latter to avoid unexpected\nbehavior.\n\n"
      ]
    },
    {
      "cell_type": "markdown",
      "metadata": {},
      "source": [
        "### Defining simulation metrics\n\n"
      ]
    },
    {
      "cell_type": "markdown",
      "metadata": {},
      "source": [
        "Our current `step` function model is *stochastic* because the arrival of\ncustomers is dictated by a randomized draw with varying\nprobabilities using `flip` - it's different every time.\n\nThe opposite extreme would be a *deterministic* model that does the same\nthing every time the model runs. Mathematical models that are based on\nevaluating closed mathematical expressions are deterministic by nature.\n\n**Could we build a deterministic model for the bike share system?** Yes,\nwe could, if we could figure out all the rules that affect our\nelements (customers, stations) and their relationships.\n\n**Which type of model is better?** It depends on the system. The\ndeterministic model makes exact predictions but cannot handle\nuncertainty (sudden change of rules), while the stochastic model\nhandles uncertainty well but is stable only for large numbers.\n\n**What would make the model better for the customer?** For example knowing\nthe probability of finding an available bike (to minimize the chance\nof not getting one, or maximize the chance of getting one).\n\n**What would make the model better for the owner?** For example knowing if\na customer got a bike or not (to minimize the number of customers who\ndon't get a bike or maximize the number of bikes in use).\n\nStatistics that quantify how well the system works are simulation\n*metrics*. \"How well\" is relative to the purpose of the\nsimulation. Applying metrics boils down to optimization.\n\n"
      ]
    },
    {
      "cell_type": "markdown",
      "metadata": {},
      "source": [
        "### Measuring the number of unhappy customers\n\n"
      ]
    },
    {
      "cell_type": "markdown",
      "metadata": {},
      "source": [
        "When modeling systems with human participation, we often (except in\nbinary situations like life or death) need to use indirect measures,\ne.g. we cannot know if a customer is really unhappy - but we can infer\nunhappiness if he arrives at a station and finds no bike available.\n\nBeing forced to quantify the unquantifiable has a good and a bad\nside. The good side is that it provides reliability - e.g. it enables\nus to send a man to the moon based on building a rocket for \"everyman\"\ninstead of exactly for the person who will sit in that rocket. The bad\nside is that it removes degrees of freedom from the system:\n\"un/happiness\" is a state of infinite gradation, a continuum that is\nrarely stable and usually changes from moment to moment. But to be\nable to compute things, we must simplify and freeze feelings.\n\nHere is a version of `bike_to_leap` that keeps track of the number of\nunhappy customers, measured in the number of customers who arrive at a\nstation with no bikes:\n\n"
      ]
    },
    {
      "cell_type": "code",
      "execution_count": 1,
      "metadata": {},
      "outputs": [],
      "source": [
        "def bike_to_leap(state):\n    if state.city == 0:\n        state.city_empty += 1  # add one unhappy customer\n        return\n    state.leap += 1\n    state.city -= 1"
      ]
    },
    {
      "cell_type": "markdown",
      "metadata": {},
      "source": [
        "We have essentially added another state variable to our system. We\nneed to add it whenever we create a `State` object:\n\n"
      ]
    },
    {
      "cell_type": "code",
      "execution_count": 1,
      "metadata": {},
      "outputs": [],
      "source": [
        "bikeshare = State(leap = 12,\n                  city = 0,\n                  city_empty = 0)  # initialize with 0 unhappy customers"
      ]
    },
    {
      "cell_type": "markdown",
      "metadata": {},
      "source": [
        "We test it by calling `bike_to_leap` (withdrawing a bike from `city`):\n\n"
      ]
    },
    {
      "cell_type": "code",
      "execution_count": 1,
      "metadata": {},
      "outputs": [
        {
          "name": "stdout",
          "output_type": "stream",
          "text": [
            "state\nleap           12\ncity            0\ncity_empty      0\n            state\nleap           12\ncity            0\ncity_empty      1"
          ]
        }
      ],
      "source": [
        "print(show(bikeshare))\nbike_to_leap(bikeshare)\nprint(show(bikeshare))"
      ]
    },
    {
      "cell_type": "markdown",
      "metadata": {},
      "source": [
        "Now we have one unhappy customer at the city station.\n\n"
      ]
    },
    {
      "cell_type": "markdown",
      "metadata": {},
      "source": [
        "### Concept and code summary\n\n"
      ]
    },
    {
      "cell_type": "markdown",
      "metadata": {},
      "source": [
        "Concept:\n\n-   Iterative modeling means starting with a simple model, identifying\n    the most important issues for the problem setting, and making\n    gradual improvements.\n-   Variables are local to functions, and parameters can have defaults\n    when using keywords for them.\n-   *Stochastic* models produce different outcomes each time they are run,\n    *deterministic* models produce the same outcome each time they're run.\n-   Statistics that measure how well the system works are called *metrics*.\n\nCode:\n\n-   We used a conditional operator, `==`, to check whether a bike is\n    available, in order to avoid negative bikes.\n-   We added a parameter, `state`, so we can work with more than one `State`\n    object.\n-   We added a docstring that explains how to use a function and a\n    comment that explains how it works.\n-   We added a state variable, `city_empty`, to count the number of\n    unhappy customers, which is a metric we’ll use to quantify how well\n    the system works.\n\n"
      ]
    },
    {
      "cell_type": "markdown",
      "metadata": {},
      "source": [
        "### Exercises 3 (30 points)\n\n"
      ]
    },
    {
      "cell_type": "markdown",
      "metadata": {},
      "source": [
        "1.  `*` means easy (10 points)\n2.  `**` means medium (20 points)\n3.  `***` means hard (30 points)\n\n"
      ]
    },
    {
      "cell_type": "markdown",
      "metadata": {},
      "source": [
        "#### Add docstrings (`*`)\n\n"
      ]
    },
    {
      "cell_type": "markdown",
      "metadata": {},
      "source": [
        "Before starting the exercise, make sure that you have all of the code\nwritten so far in one place:\n\n1.  `run_simulation(state,p1,p2,num_steps)`\n2.  `step(state,p1,p2)`\n3.  `bike_to_city(state)`\n4.  `bike_to_leap(state)`\n\nComplete the function definitions with docstrings, which includes a\nshort description of what the function does followed by a list of\nparameters explained.\n\nSolution:\n\n"
      ]
    },
    {
      "cell_type": "code",
      "execution_count": 1,
      "metadata": {},
      "outputs": [],
      "source": [
        ""
      ]
    },
    {
      "cell_type": "markdown",
      "metadata": {},
      "source": [
        "#### Unhappy customers at the LEAP station (`*`)\n\n"
      ]
    },
    {
      "cell_type": "markdown",
      "metadata": {},
      "source": [
        "Modify the update function `bike_to_city` so that it checks whether a\nbike is available at LEAP. If not, it should add `1` to `leap_empty`\n(equivalent to one unhappy customer at the LEAP station).\n\nTo test the function, create a `State` that initializes `leap` and\n`leap_empty` to `0`, run `bike_to_city` and check the result.\n\nSolution:\n\n"
      ]
    },
    {
      "cell_type": "code",
      "execution_count": 1,
      "metadata": {},
      "outputs": [
        {
          "name": "stdout",
          "output_type": "stream",
          "text": [
            "state\nleap            0\ncity           12\nleap_empty      0\n            state\nleap            0\ncity           12\nleap_empty      1"
          ]
        }
      ],
      "source": [
        "## definition\ndef bike_to_city(state):\n    if state.leap == 0:\n        state.leap_empty += 1\n        return\n    state.leap -= 1\n    state.city += 1\n\n## initialization\nbikeshare = State(leap = 0,\n                  city = 12,\n                  leap_empty = 0)\n\n## testing\nprint(show(bikeshare))\nbike_to_city(bikeshare)\nprint(show(bikeshare))"
      ]
    },
    {
      "cell_type": "markdown",
      "metadata": {},
      "source": [
        "#### Run a simulation without negative bikes (`*`)\n\n"
      ]
    },
    {
      "cell_type": "markdown",
      "metadata": {},
      "source": [
        "Run the simulation with parameters `p1=0.3`, `p2=0.2`, and `num_steps=60`,\nand confirm that the number of bikes is never negative.\n\nStart with this initial state: 10 bikes at city, 2 bikes at LEAP, and\nno unhappy customers at either location.\n\nSolution:\n\n"
      ]
    },
    {
      "cell_type": "code",
      "execution_count": 1,
      "metadata": {},
      "outputs": [],
      "source": [
        ""
      ]
    }
  ],
  "metadata": [
    [
      "org"
    ],
    null,
    null
  ],
  "nbformat": 4,
  "nbformat_minor": 0
}