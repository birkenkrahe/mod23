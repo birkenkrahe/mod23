{
  "cells": [
    {
      "cell_type": "markdown",
      "metadata": {},
      "source": [
        "### Exercise 2 (60 points)\n\n"
      ]
    },
    {
      "cell_type": "markdown",
      "metadata": {},
      "source": [
        "For our second batch of exercises, I have marked the difficulty:\n\n-   'hard' (`***`) = 30 points\n-   'medium' (`***`) = 20 points\n-   'easy' (`***`) = 10 points\n\nWe'll briefly discuss the solutions in class. Enjoy.\n\nThe `modsim.py` file has already been uploaded to this workspace. Make a\ncopy, complete the exercises, run all code cells and publish the\nnotebook, then **submit the URL to the Live Publication**.\n\n"
      ]
    },
    {
      "cell_type": "markdown",
      "metadata": {},
      "source": [
        "#### Exception (`**`)\n\n"
      ]
    },
    {
      "cell_type": "markdown",
      "metadata": {},
      "source": [
        "What happens if you spell the name of a state variable wrong? Edit\nthe following code, change the spelling of `leap` in the `print`\nstatement to `leep`, and run it. Then create a named exception for\nthe error, i.e. an exception that is responsive only to that\nerror. When the exception is triggered, print a suitable message.\n\n"
      ]
    },
    {
      "cell_type": "code",
      "execution_count": 1,
      "metadata": {},
      "outputs": [],
      "source": [
        "from modsim import State, show\nbikeshare = State(leap=10,city=2)\nprint(bikeshare.leep)"
      ]
    },
    {
      "cell_type": "markdown",
      "metadata": {},
      "source": [
        "Error message:\n\n    AttributeError: 'Series' object has no attribute 'leap'.\n    Did you mean: 'leep'?\n\nCode with exception:\n\n"
      ]
    },
    {
      "cell_type": "code",
      "execution_count": 1,
      "metadata": {},
      "outputs": [
        {
          "name": "stdout",
          "output_type": "stream",
          "text": [
            "Attribute error!"
          ]
        }
      ],
      "source": [
        "bikeshare = State(leap=10,city=2)\ntry:\n    print(bikeshare.leep)\nexcept AttributeError:\n    print(\"Attribute error!\")"
      ]
    },
    {
      "cell_type": "markdown",
      "metadata": {},
      "source": [
        "#### State variables (`*`)\n\n"
      ]
    },
    {
      "cell_type": "markdown",
      "metadata": {},
      "source": [
        "Make a `State` object with a third state variable, called `downtown`,\nwith initial value `0`, and display the state of the system using\n`modsim.show`.\n\n"
      ]
    },
    {
      "cell_type": "code",
      "execution_count": 1,
      "metadata": {},
      "outputs": [
        {
          "name": "stdout",
          "output_type": "stream",
          "text": [
            "state\nleap         10\ncity          2\ndowntown      0"
          ]
        }
      ],
      "source": [
        "from modsim import State, show\nbikeshare=State(leap=10,city=2,downtown=0)\nprint(show(bikeshare))"
      ]
    },
    {
      "cell_type": "markdown",
      "metadata": {},
      "source": [
        "#### Simulation parameters (`***`)\n\n"
      ]
    },
    {
      "cell_type": "markdown",
      "metadata": {},
      "source": [
        "Wrap the code in the bikeshare simulation practice file ([workspace](https://app.datacamp.com/workspace/w/f6ded17b-25c1-4980-a14e-4517ba95733f/edit)) in\na function `run_simulation` that takes three parameters `p1`, `p2`, and\n`num_steps`.\n\nThe function should do the following:\n\n1.  Create a `TimeSeries` object to hold the results.\n    \n        results = TimeSeries()  # empty TimeSeries object\n2.  Use a `for` loop to run `step` the number of times specified by\n    `num_steps`. `step` should be called with the specified values of `p1`\n    and `p2`.\n    \n        for i in range(num_steps):\n            step(p1,p2)\n3.  After each step, save the number of bikes at LEAP in the\n    `TimeSeries`.\n    \n        results[i+1]=bikeshare.leap\n4.  After the `for` loop, `plot` the results and `decorate` the axes.\n    \n        results.plot()\n        decorate(title='LEAP-Community Center bikeshare',\n                 xlabel='Time step (min)',\n                 ylabel='Number of bikes')\n\nTo test your function, do:\n\n1.  Create a `State` object with the initial state of the system.\n2.  Call `run_simulation` with the parameters `p1=0.3`, `p2=0.2`, and\n    `num_steps=60`.\n\nSOLUTION\n\nSimulation code with user-defined functions (`modsim` is installed)\n\n"
      ]
    },
    {
      "cell_type": "code",
      "execution_count": 1,
      "metadata": {},
      "outputs": [],
      "source": [
        "# import modsim functions\nfrom modsim import State, flip, TimeSeries, decorate\n\n# update functions (moving bikes)\ndef bike_to_city():\n    bikeshare.leap -= 1\n    bikeshare.city += 1\n\ndef bike_to_leap():\n    bikeshare.leap += 1\n    bikeshare.city -= 1\n\n# step function (accounting for customers)\ndef step(p1,p2):\n  if flip(p1):\n      bike_to_city()\n  if flip(p2):\n      bike_to_leap()"
      ]
    },
    {
      "cell_type": "markdown",
      "metadata": {},
      "source": [
        "Code to run the simulation over `num_step` steps with probabilities `p1` and `p2`:\n\n"
      ]
    },
    {
      "cell_type": "code",
      "execution_count": 1,
      "metadata": {},
      "outputs": [],
      "source": [
        "## run simulation, store and plot result\ndef run_simulation(num_step, p1, p2):\n    results = TimeSeries()\n    for i in range(num_step):\n        step(p1,p2)\n        results[i]=bikeshare.leap\n    results.plot()\n    decorate(title='LEAP-Community Center bikeshare',\n             xlabel='Time step (min)',\n             ylabel='Number of bikes')"
      ]
    },
    {
      "cell_type": "markdown",
      "metadata": {},
      "source": [
        "Main program to initialize system and run simulation:\n\n"
      ]
    },
    {
      "cell_type": "code",
      "execution_count": 1,
      "metadata": {},
      "outputs": [],
      "source": [
        "\"\"\"Bikeshare simulation\n   Author: Marcus Birkenkrahe\n   Source: Downey, Modeling and Simulation (2023)\n\"\"\"\n<<def bikeshare simulator>>\n<<def run bikeshare simulation>>\n\n## initialize system\nbikeshare = State(leap=6,city=6)\n\n## run simulation\nrun_simulation(10,0.3,0.2)"
      ]
    },
    {
      "cell_type": "markdown",
      "metadata": {},
      "source": [
        "##### SOLUTION PATH:\n\n"
      ]
    },
    {
      "cell_type": "markdown",
      "metadata": {},
      "source": [
        "The bikeshare simulation consists of the following parts:\n\n1.  Install `modsim` if necessary and import necessary functions from\n    `modsim`:\n    -   `State` to set state variables `bikeshare.leap` and `bikeshare.city`:\n\n"
      ]
    },
    {
      "cell_type": "code",
      "execution_count": 1,
      "metadata": {},
      "outputs": [],
      "source": [
        "bikeshare = State(leap=10,city=2)"
      ]
    },
    {
      "cell_type": "markdown",
      "metadata": {},
      "source": [
        "-   `flip` to account for the probability of a customer showing up.\n    -   `TimeSeries` to store results for later analysis.\n\n"
      ]
    },
    {
      "cell_type": "code",
      "execution_count": 1,
      "metadata": {},
      "outputs": [],
      "source": [
        "results = TimeSeries()"
      ]
    },
    {
      "cell_type": "markdown",
      "metadata": {},
      "source": [
        "-   `show` to show results in tabular format.\n    -   `decorate` to customize the results plot.\n\n"
      ]
    },
    {
      "cell_type": "code",
      "execution_count": 1,
      "metadata": {},
      "outputs": [],
      "source": [
        ""
      ]
    },
    {
      "cell_type": "markdown",
      "metadata": {},
      "source": [
        "Import all functions\n\n"
      ]
    },
    {
      "cell_type": "code",
      "execution_count": 1,
      "metadata": {},
      "outputs": [],
      "source": [
        "from modsim import State, flip, TimeSeries, show, decorate"
      ]
    },
    {
      "cell_type": "markdown",
      "metadata": {},
      "source": [
        "1.  User-defined functions to:\n    -   update the number of bikes in either location, `bike_to_city` and\n        `bike_to_leap`.\n\n"
      ]
    },
    {
      "cell_type": "code",
      "execution_count": 1,
      "metadata": {},
      "outputs": [],
      "source": [
        "def bike_to_city():\n    print(\"Moving bike to city\")\n    bikeshare.leap -= 1\n    bikeshare.city += 1\n\ndef bike_to_leap():\n    print(\"Moving bike to LEAP\")\n    bikeshare.leap += 1\n    bikeshare.city -= 1"
      ]
    },
    {
      "cell_type": "markdown",
      "metadata": {},
      "source": [
        "-   `step()` to simulate one time step with customers checking bikes\n    out at either location with probabilities `p_leap` and `p_city`.\n\n"
      ]
    },
    {
      "cell_type": "code",
      "execution_count": 1,
      "metadata": {},
      "outputs": [],
      "source": [
        "def step(p_leap,p_city):\n    if flip(p_leap):\n        bike_to_leap()\n    if flip(p_city):\n        bike_to_city()"
      ]
    },
    {
      "cell_type": "markdown",
      "metadata": {},
      "source": [
        "1.  `plot` to visualize the results as a graph. This function is called\n    on the `results` time series:\n\n"
      ]
    },
    {
      "cell_type": "code",
      "execution_count": 1,
      "metadata": {},
      "outputs": [],
      "source": [
        "results.plot()\ndecorate(title='LEAP-Community Center bikeshare',\n         xlabel='Time step (min)',\n         ylabel='Number of bikes')"
      ]
    },
    {
      "cell_type": "markdown",
      "metadata": {},
      "source": [
        "1.  `run_simulation` executing `step` `num_step` times with `p1` and `p2`:\n\n"
      ]
    },
    {
      "cell_type": "code",
      "execution_count": 1,
      "metadata": {},
      "outputs": [],
      "source": [
        "def run_simulation(num_steps,p1,p2):\n    for i in range(num_steps):\n        step(p1,p2)\n        results[i+1]=bikeshare.leap\n        <<plot results>>"
      ]
    },
    {
      "cell_type": "markdown",
      "metadata": {},
      "source": [
        "Testing with `num_step=60`, `p1=0.3` and `p2=0.2`:\n\n"
      ]
    },
    {
      "cell_type": "code",
      "execution_count": 1,
      "metadata": {},
      "outputs": [],
      "source": [
        "\"\"\"Bikeshare simulation\n   Author: Marcus Birkenkrahe\n   Source: Downey, Modeling and Simulation (2023)\n\"\"\"\n<<import modsim functions>>\n<<def update state variables>>\n<<def simulate step>>\n<<def run simulation>>\n<<initialize system>>\nrun_simulation(60,0.3,0.2)"
      ]
    }
  ],
  "metadata": [
    [
      "org"
    ],
    null,
    null
  ],
  "nbformat": 4,
  "nbformat_minor": 0
}