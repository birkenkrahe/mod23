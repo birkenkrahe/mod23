{
  "cells": [
    {
      "cell_type": "markdown",
      "metadata": {},
      "source": [
        "## Hidden Markov Models\n\n"
      ]
    },
    {
      "cell_type": "markdown",
      "metadata": {},
      "source": [
        "### Overview\n\n"
      ]
    },
    {
      "cell_type": "markdown",
      "metadata": {},
      "source": [
        "The Monte Carlo method exploited sampling a space with random\npoints. The order of the sampling did not matter, only the\ndistribution from which the points were drawn.\n\nSometimes the sequence of events is critical: consider the meaning of\na written paragraph, which is born from the sequence of its letters.\n\nThe Hidden Markov Model (HMM) is a tool used in analyzing or\npredicting the nature of a sequence. We will review two types of HMM\nand construct the models in Python.\n\nExample applications for HMMs include:\n\n-   Gene sequencing of protein patterns (bioinformatics)\n-   Analyzing speech patterns (speech recognition)\n-   Predicting stock prices (finance)\n-   Intrusion and anomaly detection (cybersecurity)\n\nA typical HMM is a set of connected nodes: the information flows in\nthe direction of the arrows from left to right. Probabilities for a\nmove from node to node are contained in either the nodes or in the\nconnections between the nodes, and they are used to compute the action\nacross the network.\n\nWe'll discuss:\n\n1.  Emission HMMs whose probabilities are associated with the nodes.\n2.  Transition HMMs whose probabilities are associated with the connections.\n3.  Recurrent HMMs in which the information can flow in either direction.\n\nThere are similarities between neural networks and HMMs, which we will\nnot exploit here for lack of time.\n\n"
      ]
    },
    {
      "cell_type": "markdown",
      "metadata": {},
      "source": [
        "### An emission HMM\n\n"
      ]
    },
    {
      "cell_type": "markdown",
      "metadata": {},
      "source": [
        "An emission HMM contains nodes, which can have several states and a\nprobability of emission (state change).\n\nFor example, one node can have three possible states A, B, C with\nrespective probabilities A: 0.3, B: 0.2, C: 0.5, which add up to 1.\n\nA HMM network is built from a collection of nodes, and is capable of\nreturning the probability of a particular sequence:\n\n| State|Node 0|Node 1|Node 2|\n|---|---|---|---|\n| A|0.3|0.1|0.4|\n| B|0.2|0.8|0.6|\n| C|0.5|0.1|0.0|\n|---|---|---|---|\n| Total|1.|1.|1.|\n\nFor example, the sequence BAB would activate the B emission in node 0,\nthe A emission in node 1, and the B emission in node 2. The total\nprobability for this sequence is: $0.2 \\times 0.1 \\times 0.6 = 0.012$.\n\nThere are $3^3 = 27$ permutations of three states on three nodes given\nthat the states are independent from one another - the state space has\n27 different states (from AAA to CCC) - bonus exercise: create a table\nwith permutations that looks like this:\n\n| Emission|Probability|\n|---|---|\n| AAA|0.012|\n| AAB|0.018|\n| AAC|0|\n| &#x2026;|&#x2026;|\n| CCA|0.020|\n| CCB|0.030|\n| CCC|0|\n\nEach node contains a data label, a probability, and a connection to a\nsubsequent node (or nodes). This suggests a Python data dictionary as\na suitable data structure, with tuples to establish connections.\n\nThe `system` function creates this network:\n\n"
      ]
    },
    {
      "cell_type": "code",
      "execution_count": 1,
      "metadata": {},
      "outputs": [],
      "source": [
        "def system():\n    '''Create three-node emission HMM with probabilities A,B,C per\n    node\n    '''\n\n    # initialize empty dictionary\n    hmm = {}\n\n    # define nodes as a tuple: dictionary, next node in sequence\n    hmm[0] = ({'A':0.3,'B':0.2,'C':0.5},1)\n    hmm[1] = ({'A':0.1,'B':0.8,'C':0.1},0)\n    hmm[2] = ({'A':0.4,'B':0.6},-1)\n\n    return hmm"
      ]
    },
    {
      "cell_type": "markdown",
      "metadata": {},
      "source": [
        "The `recall` function returns the probability `prb` of a sequence `strng`:\n\n"
      ]
    },
    {
      "cell_type": "code",
      "execution_count": 1,
      "metadata": {},
      "outputs": [],
      "source": [
        "def recall(hmm,strng):\n    '''Compute probability `prb` for emission sequence `strng`\n\n    hmm: Emission Hidden Markov Model defined in `system`\n    strng: Three-letter sequence of probabilities A,B,C\n    '''\n    # initialize probability to 1 ('will certainly emit')\n    prb = 1\n\n    # initialize length of node sequence\n    N = len(strng)\n\n    # iterate over node sequence \n    for i in range(N):\n\n        # select probability from system's dictionary\n        # strng[i] is the prob for a single emission from node i\n        if strng[i] in hmm[i][0]:\n            prb *= hmm[i][0][strng[i]]\n        else:\n            prb = 0\n            break\n    return prb"
      ]
    },
    {
      "cell_type": "markdown",
      "metadata": {},
      "source": [
        "Create the network and compute the probability for the sequence BAB:\n\n"
      ]
    },
    {
      "cell_type": "code",
      "execution_count": 1,
      "metadata": {},
      "outputs": [
        {
          "name": "stdout",
          "output_type": "stream",
          "text": [
            "Probability for 'BAB' is: 0.012"
          ]
        }
      ],
      "source": [
        "# create the network\nnet = system()\n\n# compute the probability of a single sequence\nseq = 'BAB'\nprob = recall(net,seq)\n\n# print probability\nprint(f\"Probability for '{seq}' is: {prob:.3f}\")"
      ]
    },
    {
      "cell_type": "markdown",
      "metadata": {},
      "source": [
        "Bonus exercise: iterate over this last code to produce the table.\n\n"
      ]
    },
    {
      "cell_type": "markdown",
      "metadata": {},
      "source": [
        "#### Bonus problem solution\n\n"
      ]
    },
    {
      "cell_type": "markdown",
      "metadata": {},
      "source": [
        "Write a Python program that computes the probabilities for each\npermutation:\n\n1.  Create a data frame with the information from the table.\n2.  Create arrays of three elements for each permutation\n3.  Compute the respective probabilities for each permutation\n4.  Display the results as a table.\n\nLoad libraries:\n\n"
      ]
    },
    {
      "cell_type": "code",
      "execution_count": 1,
      "metadata": {},
      "outputs": [],
      "source": [
        "import pandas as pd\nimport numpy as np"
      ]
    },
    {
      "cell_type": "markdown",
      "metadata": {},
      "source": [
        "Create a dictionary of emission probabilities:\n\n"
      ]
    },
    {
      "cell_type": "code",
      "execution_count": 1,
      "metadata": {},
      "outputs": [],
      "source": [
        "data = {\n    'Node_0': [0.3,0.2,0.5],\n    'Node_1': [0.1,0.8,0.1],\n    'Node_2': [0.4,0.6,0.0]\n}"
      ]
    },
    {
      "cell_type": "markdown",
      "metadata": {},
      "source": [
        "Define data frame:\n\n"
      ]
    },
    {
      "cell_type": "code",
      "execution_count": 1,
      "metadata": {},
      "outputs": [
        {
          "name": "stdout",
          "output_type": "stream",
          "text": [
            "Node_0  Node_1  Node_2\nA     0.3     0.1     0.4\nB     0.2     0.8     0.6\nC     0.5     0.1     0.0"
          ]
        }
      ],
      "source": [
        "hmm = pd.DataFrame(data,\n                   index = ['A','B','C'])\nprint(hmm)"
      ]
    },
    {
      "cell_type": "markdown",
      "metadata": {},
      "source": [
        "Check that the emission totals add up to 1:\n\n"
      ]
    },
    {
      "cell_type": "code",
      "execution_count": 1,
      "metadata": {},
      "outputs": [
        {
          "name": "stdout",
          "output_type": "stream",
          "text": [
            "Node_0    1.0\nNode_1    1.0\nNode_2    1.0\ndtype: float64"
          ]
        }
      ],
      "source": [
        "print(hmm.apply(np.sum,axis=0))"
      ]
    },
    {
      "cell_type": "markdown",
      "metadata": {},
      "source": [
        "For example, the probability for the sequence AAA is:\n\n"
      ]
    },
    {
      "cell_type": "code",
      "execution_count": 1,
      "metadata": {},
      "outputs": [
        {
          "name": "stdout",
          "output_type": "stream",
          "text": [
            "AAA: 0.012"
          ]
        }
      ],
      "source": [
        "AAA = hmm.apply(np.prod,axis=1)[0]\nprint(f'AAA: {AAA}')"
      ]
    },
    {
      "cell_type": "markdown",
      "metadata": {},
      "source": [
        "Loop over all combinations of row labels (states):\n\n"
      ]
    },
    {
      "cell_type": "code",
      "execution_count": 1,
      "metadata": {},
      "outputs": [],
      "source": [
        "for index, row in hmm.itercolumns():\n    print(index)"
      ]
    }
  ],
  "metadata": [
    [
      "org"
    ],
    null,
    null
  ],
  "nbformat": 4,
  "nbformat_minor": 0
}